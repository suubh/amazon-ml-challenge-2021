{
  "nbformat": 4,
  "nbformat_minor": 0,
  "metadata": {
    "accelerator": "GPU",
    "colab": {
      "name": "mountcoders-submission.ipynb",
      "provenance": [],
      "collapsed_sections": []
    },
    "kernelspec": {
      "display_name": "Python 3",
      "name": "python3"
    },
    "language_info": {
      "name": "python"
    }
  },
  "cells": [
    {
      "cell_type": "code",
      "metadata": {
        "id": "iPJfqu_3Lvhx"
      },
      "source": [
        "import pandas as pd\n",
        "import numpy as np\n",
        "import csv\n",
        "import matplotlib.pyplot as plt\n",
        "from wordcloud import WordCloud\n",
        "import os\n",
        "import seaborn as sns"
      ],
      "execution_count": null,
      "outputs": []
    },
    {
      "cell_type": "code",
      "metadata": {
        "colab": {
          "base_uri": "https://localhost:8080/"
        },
        "id": "3yuFbtqcMF09",
        "outputId": "d4b5cf28-c305-4887-b853-0b165391168b"
      },
      "source": [
        "!wget https://s3-ap-southeast-1.amazonaws.com/he-public-data/dataset52a7b21.zip\n"
      ],
      "execution_count": null,
      "outputs": [
        {
          "output_type": "stream",
          "text": [
            "--2021-08-01 15:24:31--  https://s3-ap-southeast-1.amazonaws.com/he-public-data/dataset52a7b21.zip\n",
            "Resolving s3-ap-southeast-1.amazonaws.com (s3-ap-southeast-1.amazonaws.com)... 52.219.124.214\n",
            "Connecting to s3-ap-southeast-1.amazonaws.com (s3-ap-southeast-1.amazonaws.com)|52.219.124.214|:443... connected.\n",
            "HTTP request sent, awaiting response... 200 OK\n",
            "Length: 1061576029 (1012M) [binary/octet-stream]\n",
            "Saving to: ‘dataset52a7b21.zip’\n",
            "\n",
            "dataset52a7b21.zip  100%[===================>]   1012M  14.5MB/s    in 73s     \n",
            "\n",
            "2021-08-01 15:25:45 (13.9 MB/s) - ‘dataset52a7b21.zip’ saved [1061576029/1061576029]\n",
            "\n"
          ],
          "name": "stdout"
        }
      ]
    },
    {
      "cell_type": "code",
      "metadata": {
        "colab": {
          "base_uri": "https://localhost:8080/"
        },
        "id": "Jtt7CmxiMMg2",
        "outputId": "50384e1a-42c1-4c71-cc91-e3192469ccac"
      },
      "source": [
        "!unzip dataset52a7b21.zip"
      ],
      "execution_count": null,
      "outputs": [
        {
          "output_type": "stream",
          "text": [
            "Archive:  dataset52a7b21.zip\n",
            "   creating: dataset/\n",
            "  inflating: dataset/train.csv       \n",
            "  inflating: dataset/sample_submission.csv  \n",
            "  inflating: dataset/test.csv        \n",
            "  inflating: dataset/.~lock.train.csv#  \n"
          ],
          "name": "stdout"
        }
      ]
    },
    {
      "cell_type": "code",
      "metadata": {
        "id": "dHjpZb2OMOme"
      },
      "source": [
        "train = pd.read_csv(\"dataset/train.csv\",escapechar = \"\\\\\",quoting = csv.QUOTE_NONE)\n",
        "test = pd.read_csv(\"dataset/test.csv\",escapechar = \"\\\\\",quoting = csv.QUOTE_NONE)"
      ],
      "execution_count": null,
      "outputs": []
    },
    {
      "cell_type": "code",
      "metadata": {
        "colab": {
          "base_uri": "https://localhost:8080/"
        },
        "id": "AnYI9bfUMQue",
        "outputId": "1edaf67b-e92d-4ab7-a072-f66d25e01138"
      },
      "source": [
        "train.shape, test.shape"
      ],
      "execution_count": null,
      "outputs": [
        {
          "output_type": "execute_result",
          "data": {
            "text/plain": [
              "((2903024, 5), (110775, 5))"
            ]
          },
          "metadata": {
            "tags": []
          },
          "execution_count": 5
        }
      ]
    },
    {
      "cell_type": "code",
      "metadata": {
        "id": "WHj73RM6Mkfz",
        "colab": {
          "base_uri": "https://localhost:8080/",
          "height": 422
        },
        "outputId": "17eec2e4-45a0-4e6a-9e7e-aa1848d691cc"
      },
      "source": [
        "train"
      ],
      "execution_count": null,
      "outputs": [
        {
          "output_type": "execute_result",
          "data": {
            "text/html": [
              "<div>\n",
              "<style scoped>\n",
              "    .dataframe tbody tr th:only-of-type {\n",
              "        vertical-align: middle;\n",
              "    }\n",
              "\n",
              "    .dataframe tbody tr th {\n",
              "        vertical-align: top;\n",
              "    }\n",
              "\n",
              "    .dataframe thead th {\n",
              "        text-align: right;\n",
              "    }\n",
              "</style>\n",
              "<table border=\"1\" class=\"dataframe\">\n",
              "  <thead>\n",
              "    <tr style=\"text-align: right;\">\n",
              "      <th></th>\n",
              "      <th>TITLE</th>\n",
              "      <th>DESCRIPTION</th>\n",
              "      <th>BULLET_POINTS</th>\n",
              "      <th>BRAND</th>\n",
              "      <th>BROWSE_NODE_ID</th>\n",
              "    </tr>\n",
              "  </thead>\n",
              "  <tbody>\n",
              "    <tr>\n",
              "      <th>0</th>\n",
              "      <td>Pete The Cat Bedtime Blues Doll, 14.5 Inch</td>\n",
              "      <td>Pete the Cat is the coolest, most popular cat ...</td>\n",
              "      <td>[Pete the Cat Bedtime Blues plush doll,Based o...</td>\n",
              "      <td>MerryMakers</td>\n",
              "      <td>0</td>\n",
              "    </tr>\n",
              "    <tr>\n",
              "      <th>1</th>\n",
              "      <td>The New Yorker NYHM014 Refrigerator Magnet, 2 ...</td>\n",
              "      <td>The New Yorker Handsome Cello Wrapped Hard Mag...</td>\n",
              "      <td>[Cat In A Tea Cup by New Yorker cover artist G...</td>\n",
              "      <td>The New Yorker</td>\n",
              "      <td>1</td>\n",
              "    </tr>\n",
              "    <tr>\n",
              "      <th>2</th>\n",
              "      <td>The Ultimate Self-Sufficiency Handbook: A Comp...</td>\n",
              "      <td>NaN</td>\n",
              "      <td>Skyhorse Publishing</td>\n",
              "      <td>imusti</td>\n",
              "      <td>2</td>\n",
              "    </tr>\n",
              "    <tr>\n",
              "      <th>3</th>\n",
              "      <td>Amway Nutrilite Kids Chewable Iron Tablets (100)</td>\n",
              "      <td>NaN</td>\n",
              "      <td>[Nutrilite Kids,Chewable Iron Tablets,Quantity...</td>\n",
              "      <td>Amway</td>\n",
              "      <td>3</td>\n",
              "    </tr>\n",
              "    <tr>\n",
              "      <th>4</th>\n",
              "      <td>Teacher Planner Company A4 6 Lesson Academic T...</td>\n",
              "      <td>NaN</td>\n",
              "      <td>NaN</td>\n",
              "      <td>NaN</td>\n",
              "      <td>4</td>\n",
              "    </tr>\n",
              "    <tr>\n",
              "      <th>...</th>\n",
              "      <td>...</td>\n",
              "      <td>...</td>\n",
              "      <td>...</td>\n",
              "      <td>...</td>\n",
              "      <td>...</td>\n",
              "    </tr>\n",
              "    <tr>\n",
              "      <th>2903019</th>\n",
              "      <td>Premium Aviator Sunglasses - HD Polarized (Bri...</td>\n",
              "      <td>These premium Aviator Sunglasses with 5 color ...</td>\n",
              "      <td>[Frame size: Lens height - 56mm, Lens width - ...</td>\n",
              "      <td>Generic</td>\n",
              "      <td>1040</td>\n",
              "    </tr>\n",
              "    <tr>\n",
              "      <th>2903020</th>\n",
              "      <td>Social Distance Stickers - Set of 5 Sticker Sl...</td>\n",
              "      <td>set of 5 prints social distancing sticker self...</td>\n",
              "      <td>[covid19 safety sticker - set of 5 to maintain...</td>\n",
              "      <td>Generic</td>\n",
              "      <td>15199</td>\n",
              "    </tr>\n",
              "    <tr>\n",
              "      <th>2903021</th>\n",
              "      <td>Torr-to Face Shield PACK OF 5 with Adjustable ...</td>\n",
              "      <td>* COMPLETE FACE PROTECTION: Torr-to Face Shiel...</td>\n",
              "      <td>[350 MICRONS PACK OF 5 PCS,COMPLETE FACE PROTE...</td>\n",
              "      <td>TORR-TO</td>\n",
              "      <td>1044933</td>\n",
              "    </tr>\n",
              "    <tr>\n",
              "      <th>2903022</th>\n",
              "      <td>Type-C to 3.5 MM for Oppo R17 Pro Type-C to 3....</td>\n",
              "      <td>Still want to use your favorite earphones/head...</td>\n",
              "      <td>[Indian Connectors: Made for Indian sockets, t...</td>\n",
              "      <td>SHOPBELL</td>\n",
              "      <td>14790</td>\n",
              "    </tr>\n",
              "    <tr>\n",
              "      <th>2903023</th>\n",
              "      <td>KNG Orange Polo Tshirt (38)</td>\n",
              "      <td>Performance inspired by comfort. The polo shir...</td>\n",
              "      <td>NaN</td>\n",
              "      <td>KNG</td>\n",
              "      <td>1213</td>\n",
              "    </tr>\n",
              "  </tbody>\n",
              "</table>\n",
              "<p>2903024 rows × 5 columns</p>\n",
              "</div>"
            ],
            "text/plain": [
              "                                                     TITLE  ... BROWSE_NODE_ID\n",
              "0               Pete The Cat Bedtime Blues Doll, 14.5 Inch  ...              0\n",
              "1        The New Yorker NYHM014 Refrigerator Magnet, 2 ...  ...              1\n",
              "2        The Ultimate Self-Sufficiency Handbook: A Comp...  ...              2\n",
              "3         Amway Nutrilite Kids Chewable Iron Tablets (100)  ...              3\n",
              "4        Teacher Planner Company A4 6 Lesson Academic T...  ...              4\n",
              "...                                                    ...  ...            ...\n",
              "2903019  Premium Aviator Sunglasses - HD Polarized (Bri...  ...           1040\n",
              "2903020  Social Distance Stickers - Set of 5 Sticker Sl...  ...          15199\n",
              "2903021  Torr-to Face Shield PACK OF 5 with Adjustable ...  ...        1044933\n",
              "2903022  Type-C to 3.5 MM for Oppo R17 Pro Type-C to 3....  ...          14790\n",
              "2903023                        KNG Orange Polo Tshirt (38)  ...           1213\n",
              "\n",
              "[2903024 rows x 5 columns]"
            ]
          },
          "metadata": {
            "tags": []
          },
          "execution_count": 6
        }
      ]
    },
    {
      "cell_type": "code",
      "metadata": {
        "id": "hOKDmycHMmyg",
        "colab": {
          "base_uri": "https://localhost:8080/",
          "height": 422
        },
        "outputId": "46aefb97-6c04-42f7-8d19-3991ec4018a9"
      },
      "source": [
        "test"
      ],
      "execution_count": null,
      "outputs": [
        {
          "output_type": "execute_result",
          "data": {
            "text/html": [
              "<div>\n",
              "<style scoped>\n",
              "    .dataframe tbody tr th:only-of-type {\n",
              "        vertical-align: middle;\n",
              "    }\n",
              "\n",
              "    .dataframe tbody tr th {\n",
              "        vertical-align: top;\n",
              "    }\n",
              "\n",
              "    .dataframe thead th {\n",
              "        text-align: right;\n",
              "    }\n",
              "</style>\n",
              "<table border=\"1\" class=\"dataframe\">\n",
              "  <thead>\n",
              "    <tr style=\"text-align: right;\">\n",
              "      <th></th>\n",
              "      <th>PRODUCT_ID</th>\n",
              "      <th>TITLE</th>\n",
              "      <th>DESCRIPTION</th>\n",
              "      <th>BULLET_POINTS</th>\n",
              "      <th>BRAND</th>\n",
              "    </tr>\n",
              "  </thead>\n",
              "  <tbody>\n",
              "    <tr>\n",
              "      <th>0</th>\n",
              "      <td>1</td>\n",
              "      <td>Command 3M Small Kitchen Hooks, White, Decorat...</td>\n",
              "      <td>Sale Unit: PACK</td>\n",
              "      <td>[INCLUDES - 9 hooks and 12 small indoor strips...</td>\n",
              "      <td>Command</td>\n",
              "    </tr>\n",
              "    <tr>\n",
              "      <th>1</th>\n",
              "      <td>2</td>\n",
              "      <td>O'Neal Jump Hardware JAG Unisex-Adult Glove (B...</td>\n",
              "      <td>Synthetic leather palm with double-layer thumb...</td>\n",
              "      <td>[Silicone printing for a better grip. Long las...</td>\n",
              "      <td>O'Neal</td>\n",
              "    </tr>\n",
              "    <tr>\n",
              "      <th>2</th>\n",
              "      <td>3</td>\n",
              "      <td>NFL Detroit Lions Portable Party Fridge, 15.8 ...</td>\n",
              "      <td>Boelter Brands lets you celebrate your favorit...</td>\n",
              "      <td>[Runs on 12 Volt DC Power or 110 Volt AC Power...</td>\n",
              "      <td>Boelter Brands</td>\n",
              "    </tr>\n",
              "    <tr>\n",
              "      <th>3</th>\n",
              "      <td>4</td>\n",
              "      <td>Panasonic Single Line KX-TS880MX Corded Phone ...</td>\n",
              "      <td>Features: 50 Station Phonebook Corded Phone Al...</td>\n",
              "      <td>Panasonic Landline Phones doesn't come with a ...</td>\n",
              "      <td>Panasonic</td>\n",
              "    </tr>\n",
              "    <tr>\n",
              "      <th>4</th>\n",
              "      <td>5</td>\n",
              "      <td>Zero Baby Girl's 100% Cotton Innerwear Bloomer...</td>\n",
              "      <td>Zero Baby Girl Panties Set. 100% Cotton, Breat...</td>\n",
              "      <td>[Zero Baby Girl Panties, Pack of 6, 100% Cotto...</td>\n",
              "      <td>Zero</td>\n",
              "    </tr>\n",
              "    <tr>\n",
              "      <th>...</th>\n",
              "      <td>...</td>\n",
              "      <td>...</td>\n",
              "      <td>...</td>\n",
              "      <td>...</td>\n",
              "      <td>...</td>\n",
              "    </tr>\n",
              "    <tr>\n",
              "      <th>110770</th>\n",
              "      <td>110771</td>\n",
              "      <td>AAHNA E MALL OneBlade Hybrid Trimmer Shaver An...</td>\n",
              "      <td>&lt;p&gt;1-All In One Hyper Advanced Smart Rechargea...</td>\n",
              "      <td>[Unique One Blade can style, trim and shave, w...</td>\n",
              "      <td>Generic</td>\n",
              "    </tr>\n",
              "    <tr>\n",
              "      <th>110771</th>\n",
              "      <td>110772</td>\n",
              "      <td>Grin Health N99 Anti Pollution Reusable Washab...</td>\n",
              "      <td>&lt;p&gt;SIZE GUIDE : M - (35- 65 Kg), L - (49- 72 K...</td>\n",
              "      <td>[PROTECTION: Filtration rate up to ≥99 percent...</td>\n",
              "      <td>Grin Health</td>\n",
              "    </tr>\n",
              "    <tr>\n",
              "      <th>110772</th>\n",
              "      <td>110773</td>\n",
              "      <td>Asian Army Pink Ultra reusable respirator clot...</td>\n",
              "      <td>Asian HyperProtect A95 masks have been enginee...</td>\n",
              "      <td>[Reusable and environment friendly: These mask...</td>\n",
              "      <td>ASIAN</td>\n",
              "    </tr>\n",
              "    <tr>\n",
              "      <th>110773</th>\n",
              "      <td>110774</td>\n",
              "      <td>IM Safe 3 Ply Non-Woven Disposable Surgical Fa...</td>\n",
              "      <td>This 3 Ply Disposable face mask is manufacture...</td>\n",
              "      <td>[3 Ply Mask: Genuine 3 Ply Mask. 25 GSM Spun B...</td>\n",
              "      <td>Intermarket</td>\n",
              "    </tr>\n",
              "    <tr>\n",
              "      <th>110774</th>\n",
              "      <td>110775</td>\n",
              "      <td>Artifie 100% Cotton Unisex Reusable Breathable...</td>\n",
              "      <td>Material : Cotton Printed, cotton thread, Soft...</td>\n",
              "      <td>[Eco Friendly, Reusable Cotton Masks for Face ...</td>\n",
              "      <td>Artifie</td>\n",
              "    </tr>\n",
              "  </tbody>\n",
              "</table>\n",
              "<p>110775 rows × 5 columns</p>\n",
              "</div>"
            ],
            "text/plain": [
              "        PRODUCT_ID  ...           BRAND\n",
              "0                1  ...         Command\n",
              "1                2  ...          O'Neal\n",
              "2                3  ...  Boelter Brands\n",
              "3                4  ...       Panasonic\n",
              "4                5  ...            Zero\n",
              "...            ...  ...             ...\n",
              "110770      110771  ...         Generic\n",
              "110771      110772  ...     Grin Health\n",
              "110772      110773  ...           ASIAN\n",
              "110773      110774  ...     Intermarket\n",
              "110774      110775  ...         Artifie\n",
              "\n",
              "[110775 rows x 5 columns]"
            ]
          },
          "metadata": {
            "tags": []
          },
          "execution_count": 7
        }
      ]
    },
    {
      "cell_type": "code",
      "metadata": {
        "id": "gGDn4v86XgrI"
      },
      "source": [
        ""
      ],
      "execution_count": null,
      "outputs": []
    },
    {
      "cell_type": "markdown",
      "metadata": {
        "id": "tOSYfVOsMtvd"
      },
      "source": [
        "# WORKING WITH TRAIN\n",
        "\n"
      ]
    },
    {
      "cell_type": "code",
      "metadata": {
        "colab": {
          "base_uri": "https://localhost:8080/"
        },
        "id": "-dsHQTH5Mnhj",
        "outputId": "1d769371-59fc-4fed-892f-37a19105fe20"
      },
      "source": [
        "train.isnull().sum()"
      ],
      "execution_count": null,
      "outputs": [
        {
          "output_type": "execute_result",
          "data": {
            "text/plain": [
              "TITLE                 71\n",
              "DESCRIPTION       723664\n",
              "BULLET_POINTS     166263\n",
              "BRAND              56737\n",
              "BROWSE_NODE_ID         0\n",
              "dtype: int64"
            ]
          },
          "metadata": {
            "tags": []
          },
          "execution_count": 9
        }
      ]
    },
    {
      "cell_type": "code",
      "metadata": {
        "colab": {
          "base_uri": "https://localhost:8080/",
          "height": 393
        },
        "id": "vybIUKZqho4C",
        "outputId": "014654fc-5d1e-4046-f67f-9416e9ce579b"
      },
      "source": [
        "#heatmap showing the distribution of all the Nan's throughout the data\n",
        "plt.figure(figsize=(10,6))\n",
        "sns.heatmap(train.isnull(), cbar=False, yticklabels=False, cmap = 'viridis')\n",
        "# About 25% of description is NULL"
      ],
      "execution_count": null,
      "outputs": [
        {
          "output_type": "execute_result",
          "data": {
            "text/plain": [
              "<matplotlib.axes._subplots.AxesSubplot at 0x7f9d6fd01090>"
            ]
          },
          "metadata": {
            "tags": []
          },
          "execution_count": 10
        },
        {
          "output_type": "display_data",
          "data": {
            "image/png": "[encoded data removed]",
            "text/plain": [
              "<Figure size 720x432 with 1 Axes>"
            ]
          },
          "metadata": {
            "tags": [],
            "needs_background": "light"
          }
        }
      ]
    },
    {
      "cell_type": "code",
      "metadata": {
        "id": "A6rjLqmQkV7L"
      },
      "source": [
        "#TRYING BY REMOVING NULL VALUES\n",
        "train = train[train['DESCRIPTION'].notna()]\n",
        "train = train[train['BULLET_POINTS'].notna()]\n",
        "train = train[train['BRAND'].notna()]\n",
        "train = train.reset_index(drop=True)"
      ],
      "execution_count": null,
      "outputs": []
    },
    {
      "cell_type": "code",
      "metadata": {
        "colab": {
          "base_uri": "https://localhost:8080/"
        },
        "id": "mqLS3u8UkpEa",
        "outputId": "f47c97ed-3c97-4ff7-f5d7-c4f58a7ae95b"
      },
      "source": [
        "train.shape"
      ],
      "execution_count": null,
      "outputs": [
        {
          "output_type": "execute_result",
          "data": {
            "text/plain": [
              "(2110641, 5)"
            ]
          },
          "metadata": {
            "tags": []
          },
          "execution_count": 12
        }
      ]
    },
    {
      "cell_type": "markdown",
      "metadata": {
        "id": "gqhWLMKBrxQf"
      },
      "source": [
        "# MAKING A SMALL DATASET FROM train TO WORK \n"
      ]
    },
    {
      "cell_type": "code",
      "metadata": {
        "colab": {
          "base_uri": "https://localhost:8080/"
        },
        "id": "u_utZn_pnSl1",
        "outputId": "bbf1e39f-609b-4b23-b4da-04ec8854ac2d"
      },
      "source": [
        "#Creating a temporary small Dataframe - Crashing Everytime\n",
        "temp_train = train.sample(n = 110775)  #Taking random 50k \n",
        "temp_train.shape"
      ],
      "execution_count": null,
      "outputs": [
        {
          "output_type": "execute_result",
          "data": {
            "text/plain": [
              "(110775, 5)"
            ]
          },
          "metadata": {
            "tags": []
          },
          "execution_count": 73
        }
      ]
    },
    {
      "cell_type": "code",
      "metadata": {
        "id": "g2GneG00aGQ-",
        "colab": {
          "base_uri": "https://localhost:8080/",
          "height": 595
        },
        "outputId": "f06f7703-57a8-4b91-9194-8bef8185ef4c"
      },
      "source": [
        "temp_train"
      ],
      "execution_count": null,
      "outputs": [
        {
          "output_type": "execute_result",
          "data": {
            "text/html": [
              "<div>\n",
              "<style scoped>\n",
              "    .dataframe tbody tr th:only-of-type {\n",
              "        vertical-align: middle;\n",
              "    }\n",
              "\n",
              "    .dataframe tbody tr th {\n",
              "        vertical-align: top;\n",
              "    }\n",
              "\n",
              "    .dataframe thead th {\n",
              "        text-align: right;\n",
              "    }\n",
              "</style>\n",
              "<table border=\"1\" class=\"dataframe\">\n",
              "  <thead>\n",
              "    <tr style=\"text-align: right;\">\n",
              "      <th></th>\n",
              "      <th>TITLE</th>\n",
              "      <th>DESCRIPTION</th>\n",
              "      <th>BULLET_POINTS</th>\n",
              "      <th>BRAND</th>\n",
              "      <th>BROWSE_NODE_ID</th>\n",
              "    </tr>\n",
              "  </thead>\n",
              "  <tbody>\n",
              "    <tr>\n",
              "      <th>1449482</th>\n",
              "      <td>Maxwest Orbit Z50 Compatible Bluetooth Capsule...</td>\n",
              "      <td>Play the audio through Bluetooth Version V3.0 ...</td>\n",
              "      <td>[Supports Wireless Music Streaming via New Blu...</td>\n",
              "      <td>Celltool</td>\n",
              "      <td>1966</td>\n",
              "    </tr>\n",
              "    <tr>\n",
              "      <th>1840728</th>\n",
              "      <td>EDGELEC 100pcs 360 ohm Resistor 1/4w (0.25 Wat...</td>\n",
              "      <td>&lt;b&gt;100pcs - 360 ohm - 0.25 Watt (1/4W) Metal F...</td>\n",
              "      <td>[Metal Film Resistor: Excellent Noise Suppress...</td>\n",
              "      <td>EDGELEC</td>\n",
              "      <td>6191</td>\n",
              "    </tr>\n",
              "    <tr>\n",
              "      <th>1793974</th>\n",
              "      <td>Younky Sunglasses for Men's And Boy's With Blu...</td>\n",
              "      <td>Younky Sunglasses for Men's And Boy's With Blu...</td>\n",
              "      <td>[Younky Latest Combo offer of Sunglasses for M...</td>\n",
              "      <td>Younky</td>\n",
              "      <td>16033</td>\n",
              "    </tr>\n",
              "    <tr>\n",
              "      <th>1172304</th>\n",
              "      <td>TP-LINK Archer T8E AC1750 Dual Band Wireless P...</td>\n",
              "      <td>TP-LINK ARCHER T8E AC1750 Dual-Band Wireless P...</td>\n",
              "      <td>[TP-LINK,Original Product]</td>\n",
              "      <td>TP-Link</td>\n",
              "      <td>1198</td>\n",
              "    </tr>\n",
              "    <tr>\n",
              "      <th>918014</th>\n",
              "      <td>YOTOVA Redmita Stylish Latest Design Sling Han...</td>\n",
              "      <td>YOTOVA is offering you a ladies handbag. It is...</td>\n",
              "      <td>[Material-PU, Inner Material- Polyester, Color...</td>\n",
              "      <td>YOTOVA</td>\n",
              "      <td>1072</td>\n",
              "    </tr>\n",
              "    <tr>\n",
              "      <th>...</th>\n",
              "      <td>...</td>\n",
              "      <td>...</td>\n",
              "      <td>...</td>\n",
              "      <td>...</td>\n",
              "      <td>...</td>\n",
              "    </tr>\n",
              "    <tr>\n",
              "      <th>1876123</th>\n",
              "      <td>Ywoow Unisex Baby Winter Earmuffs Winter Ear W...</td>\n",
              "      <td>&lt;br&gt;Unisex Baby Winter Earmuffs Winter Ear War...</td>\n",
              "      <td>[✡ cute toddler baby girls clothes set long sl...</td>\n",
              "      <td>Ywoow</td>\n",
              "      <td>1239</td>\n",
              "    </tr>\n",
              "    <tr>\n",
              "      <th>2085754</th>\n",
              "      <td>Uniq Green with White Color Marble Pebbles (10...</td>\n",
              "      <td>Gravels are one of the most important part of ...</td>\n",
              "      <td>[material:-colored marble,Color:- Green With W...</td>\n",
              "      <td>uniq world wide</td>\n",
              "      <td>97741</td>\n",
              "    </tr>\n",
              "    <tr>\n",
              "      <th>1800523</th>\n",
              "      <td>Case Creation Retro Army Green 3D Military Cam...</td>\n",
              "      <td>&lt;ul&gt;Why Choose &lt;b&gt;Case Creation?&lt;/b&gt;&lt;br&gt;&lt;br&gt;&lt;l...</td>\n",
              "      <td>[3D RELIEF ARMY STYLING SERIES - Comfortable t...</td>\n",
              "      <td>Case Creation</td>\n",
              "      <td>1045</td>\n",
              "    </tr>\n",
              "    <tr>\n",
              "      <th>1236228</th>\n",
              "      <td>Zeneme Dancing Peacock American Diamond Bangle...</td>\n",
              "      <td>Zeneme welcomes you to the world of designer j...</td>\n",
              "      <td>[American Diamond Bangles,Bangles For Wedding ...</td>\n",
              "      <td>ZENEME</td>\n",
              "      <td>396</td>\n",
              "    </tr>\n",
              "    <tr>\n",
              "      <th>579272</th>\n",
              "      <td>6TH AVENUE STREETWEAR Women's Cotton Angrakha ...</td>\n",
              "      <td>6TH AVENUE STREETWEAR Sky Blue Umbrella Print ...</td>\n",
              "      <td>[Material: Cotton,Sleeve Length : Three-Quarte...</td>\n",
              "      <td>6TH AVENUE STREETWEAR</td>\n",
              "      <td>1251</td>\n",
              "    </tr>\n",
              "  </tbody>\n",
              "</table>\n",
              "<p>110775 rows × 5 columns</p>\n",
              "</div>"
            ],
            "text/plain": [
              "                                                     TITLE  ... BROWSE_NODE_ID\n",
              "1449482  Maxwest Orbit Z50 Compatible Bluetooth Capsule...  ...           1966\n",
              "1840728  EDGELEC 100pcs 360 ohm Resistor 1/4w (0.25 Wat...  ...           6191\n",
              "1793974  Younky Sunglasses for Men's And Boy's With Blu...  ...          16033\n",
              "1172304  TP-LINK Archer T8E AC1750 Dual Band Wireless P...  ...           1198\n",
              "918014   YOTOVA Redmita Stylish Latest Design Sling Han...  ...           1072\n",
              "...                                                    ...  ...            ...\n",
              "1876123  Ywoow Unisex Baby Winter Earmuffs Winter Ear W...  ...           1239\n",
              "2085754  Uniq Green with White Color Marble Pebbles (10...  ...          97741\n",
              "1800523  Case Creation Retro Army Green 3D Military Cam...  ...           1045\n",
              "1236228  Zeneme Dancing Peacock American Diamond Bangle...  ...            396\n",
              "579272   6TH AVENUE STREETWEAR Women's Cotton Angrakha ...  ...           1251\n",
              "\n",
              "[110775 rows x 5 columns]"
            ]
          },
          "metadata": {
            "tags": []
          },
          "execution_count": 74
        }
      ]
    },
    {
      "cell_type": "code",
      "metadata": {
        "id": "tAKR3Ps5amEz",
        "colab": {
          "base_uri": "https://localhost:8080/",
          "height": 595
        },
        "outputId": "eae06dca-f488-4d44-cf88-f8d5bed88469"
      },
      "source": [
        "temp_train = temp_train.reset_index(drop=True)\n",
        "temp_train"
      ],
      "execution_count": null,
      "outputs": [
        {
          "output_type": "execute_result",
          "data": {
            "text/html": [
              "<div>\n",
              "<style scoped>\n",
              "    .dataframe tbody tr th:only-of-type {\n",
              "        vertical-align: middle;\n",
              "    }\n",
              "\n",
              "    .dataframe tbody tr th {\n",
              "        vertical-align: top;\n",
              "    }\n",
              "\n",
              "    .dataframe thead th {\n",
              "        text-align: right;\n",
              "    }\n",
              "</style>\n",
              "<table border=\"1\" class=\"dataframe\">\n",
              "  <thead>\n",
              "    <tr style=\"text-align: right;\">\n",
              "      <th></th>\n",
              "      <th>TITLE</th>\n",
              "      <th>DESCRIPTION</th>\n",
              "      <th>BULLET_POINTS</th>\n",
              "      <th>BRAND</th>\n",
              "      <th>BROWSE_NODE_ID</th>\n",
              "    </tr>\n",
              "  </thead>\n",
              "  <tbody>\n",
              "    <tr>\n",
              "      <th>0</th>\n",
              "      <td>Maxwest Orbit Z50 Compatible Bluetooth Capsule...</td>\n",
              "      <td>Play the audio through Bluetooth Version V3.0 ...</td>\n",
              "      <td>[Supports Wireless Music Streaming via New Blu...</td>\n",
              "      <td>Celltool</td>\n",
              "      <td>1966</td>\n",
              "    </tr>\n",
              "    <tr>\n",
              "      <th>1</th>\n",
              "      <td>EDGELEC 100pcs 360 ohm Resistor 1/4w (0.25 Wat...</td>\n",
              "      <td>&lt;b&gt;100pcs - 360 ohm - 0.25 Watt (1/4W) Metal F...</td>\n",
              "      <td>[Metal Film Resistor: Excellent Noise Suppress...</td>\n",
              "      <td>EDGELEC</td>\n",
              "      <td>6191</td>\n",
              "    </tr>\n",
              "    <tr>\n",
              "      <th>2</th>\n",
              "      <td>Younky Sunglasses for Men's And Boy's With Blu...</td>\n",
              "      <td>Younky Sunglasses for Men's And Boy's With Blu...</td>\n",
              "      <td>[Younky Latest Combo offer of Sunglasses for M...</td>\n",
              "      <td>Younky</td>\n",
              "      <td>16033</td>\n",
              "    </tr>\n",
              "    <tr>\n",
              "      <th>3</th>\n",
              "      <td>TP-LINK Archer T8E AC1750 Dual Band Wireless P...</td>\n",
              "      <td>TP-LINK ARCHER T8E AC1750 Dual-Band Wireless P...</td>\n",
              "      <td>[TP-LINK,Original Product]</td>\n",
              "      <td>TP-Link</td>\n",
              "      <td>1198</td>\n",
              "    </tr>\n",
              "    <tr>\n",
              "      <th>4</th>\n",
              "      <td>YOTOVA Redmita Stylish Latest Design Sling Han...</td>\n",
              "      <td>YOTOVA is offering you a ladies handbag. It is...</td>\n",
              "      <td>[Material-PU, Inner Material- Polyester, Color...</td>\n",
              "      <td>YOTOVA</td>\n",
              "      <td>1072</td>\n",
              "    </tr>\n",
              "    <tr>\n",
              "      <th>...</th>\n",
              "      <td>...</td>\n",
              "      <td>...</td>\n",
              "      <td>...</td>\n",
              "      <td>...</td>\n",
              "      <td>...</td>\n",
              "    </tr>\n",
              "    <tr>\n",
              "      <th>110770</th>\n",
              "      <td>Ywoow Unisex Baby Winter Earmuffs Winter Ear W...</td>\n",
              "      <td>&lt;br&gt;Unisex Baby Winter Earmuffs Winter Ear War...</td>\n",
              "      <td>[✡ cute toddler baby girls clothes set long sl...</td>\n",
              "      <td>Ywoow</td>\n",
              "      <td>1239</td>\n",
              "    </tr>\n",
              "    <tr>\n",
              "      <th>110771</th>\n",
              "      <td>Uniq Green with White Color Marble Pebbles (10...</td>\n",
              "      <td>Gravels are one of the most important part of ...</td>\n",
              "      <td>[material:-colored marble,Color:- Green With W...</td>\n",
              "      <td>uniq world wide</td>\n",
              "      <td>97741</td>\n",
              "    </tr>\n",
              "    <tr>\n",
              "      <th>110772</th>\n",
              "      <td>Case Creation Retro Army Green 3D Military Cam...</td>\n",
              "      <td>&lt;ul&gt;Why Choose &lt;b&gt;Case Creation?&lt;/b&gt;&lt;br&gt;&lt;br&gt;&lt;l...</td>\n",
              "      <td>[3D RELIEF ARMY STYLING SERIES - Comfortable t...</td>\n",
              "      <td>Case Creation</td>\n",
              "      <td>1045</td>\n",
              "    </tr>\n",
              "    <tr>\n",
              "      <th>110773</th>\n",
              "      <td>Zeneme Dancing Peacock American Diamond Bangle...</td>\n",
              "      <td>Zeneme welcomes you to the world of designer j...</td>\n",
              "      <td>[American Diamond Bangles,Bangles For Wedding ...</td>\n",
              "      <td>ZENEME</td>\n",
              "      <td>396</td>\n",
              "    </tr>\n",
              "    <tr>\n",
              "      <th>110774</th>\n",
              "      <td>6TH AVENUE STREETWEAR Women's Cotton Angrakha ...</td>\n",
              "      <td>6TH AVENUE STREETWEAR Sky Blue Umbrella Print ...</td>\n",
              "      <td>[Material: Cotton,Sleeve Length : Three-Quarte...</td>\n",
              "      <td>6TH AVENUE STREETWEAR</td>\n",
              "      <td>1251</td>\n",
              "    </tr>\n",
              "  </tbody>\n",
              "</table>\n",
              "<p>110775 rows × 5 columns</p>\n",
              "</div>"
            ],
            "text/plain": [
              "                                                    TITLE  ... BROWSE_NODE_ID\n",
              "0       Maxwest Orbit Z50 Compatible Bluetooth Capsule...  ...           1966\n",
              "1       EDGELEC 100pcs 360 ohm Resistor 1/4w (0.25 Wat...  ...           6191\n",
              "2       Younky Sunglasses for Men's And Boy's With Blu...  ...          16033\n",
              "3       TP-LINK Archer T8E AC1750 Dual Band Wireless P...  ...           1198\n",
              "4       YOTOVA Redmita Stylish Latest Design Sling Han...  ...           1072\n",
              "...                                                   ...  ...            ...\n",
              "110770  Ywoow Unisex Baby Winter Earmuffs Winter Ear W...  ...           1239\n",
              "110771  Uniq Green with White Color Marble Pebbles (10...  ...          97741\n",
              "110772  Case Creation Retro Army Green 3D Military Cam...  ...           1045\n",
              "110773  Zeneme Dancing Peacock American Diamond Bangle...  ...            396\n",
              "110774  6TH AVENUE STREETWEAR Women's Cotton Angrakha ...  ...           1251\n",
              "\n",
              "[110775 rows x 5 columns]"
            ]
          },
          "metadata": {
            "tags": []
          },
          "execution_count": 75
        }
      ]
    },
    {
      "cell_type": "code",
      "metadata": {
        "id": "UHeDOT_6unkc"
      },
      "source": [
        "#creating a list of all the unique BRAND names\n",
        "brands = list(dict.fromkeys(list(temp_train.loc[:, 'BRAND'].values)))\n",
        "brand_keys = []\n",
        "brand_freq = [] \n",
        "\n",
        "for brand in brands:\n",
        "  count = np.sum(temp_train.loc[:, 'BRAND'].values == brand)\n",
        "  if count>=10:\n",
        "    brand_keys.append(brand)\n",
        "    brand_freq.append(count)"
      ],
      "execution_count": null,
      "outputs": []
    },
    {
      "cell_type": "code",
      "metadata": {
        "id": "21E_Sw0lpH9z"
      },
      "source": [
        "plt.figure(figsize=(30,8))\n",
        "plt.title(\"Brand vs Frequency of Products\", fontsize=32)\n",
        "plt.ylabel(\"Number of Products of that Brand\", fontsize=20)\n",
        "plt.xlabel(\"Name of the Brand\", fontsize=20)\n",
        "plt.xticks(fontsize=15,rotation=90)\n",
        "plt.yticks(fontsize=24)\n",
        "sns.lineplot(x=brand_keys, y=brand_freq)\n",
        "plt.show()"
      ],
      "execution_count": null,
      "outputs": []
    },
    {
      "cell_type": "markdown",
      "metadata": {
        "id": "wuXg_usxsJfB"
      },
      "source": [
        "## Cleaning DESCRIPTION"
      ]
    },
    {
      "cell_type": "code",
      "metadata": {
        "id": "FtpFDrVfhIDy"
      },
      "source": [
        "#Cleaning \n",
        "from collections import Counter\n",
        "from string import ascii_letters, punctuation, digits\n",
        "\n",
        "corpus = ' '.join(temp_train['DESCRIPTION']).lower()\n",
        "characters = Counter(corpus)\n",
        "sorted(characters.items(), key=lambda i: i[1], reverse=True)\n",
        "\n",
        "total=0\n",
        "for i in ascii_letters+punctuation+digits:\n",
        "  total+=characters[i]\n",
        "\n",
        "print(\"The % of data consisting of only English Characters is {}.\".format(100*total/len(' '.join(temp_train['DESCRIPTION']))))\n",
        "print(\"\\n\")\n",
        "print(characters)"
      ],
      "execution_count": null,
      "outputs": []
    },
    {
      "cell_type": "code",
      "metadata": {
        "id": "he87b9CNnht1"
      },
      "source": [
        "import nltk\n",
        "nltk.download('all')\n",
        "from nltk.corpus import stopwords\n",
        "from nltk.stem import WordNetLemmatizer\n",
        "from nltk.stem.porter import PorterStemmer\n",
        "from nltk.tokenize import word_tokenize\n",
        "from wordcloud import WordCloud, STOPWORDS\n",
        "from textblob import TextBlob\n",
        "from sklearn.feature_extraction.text import CountVectorizer, TfidfVectorizer"
      ],
      "execution_count": null,
      "outputs": []
    },
    {
      "cell_type": "code",
      "metadata": {
        "id": "cc90xq5viMO3"
      },
      "source": [
        "import re\n",
        "custom_contracts = {\n",
        "    \"women's\" : \"women\",\n",
        "    \"men's\" : \"men\",\n",
        "    \"girl's\" : \"girl\",\n",
        "    \"boy's\" : \"boy\",\n",
        "    \"don't\" : \"do not\",\n",
        "    \"product's\" : \"product\",\n",
        "    \"it's\" : \"its\",\n",
        "    \"bra's\" : \"bras\",\n",
        "    \"won't\": \"will not\",\n",
        "    \"doesn't\" : \"does not\",\n",
        "    \"l's\" : \" \",\n",
        "    \"n's\" : \" \",\n",
        "    \"y's\" : \" \",\n",
        "    \"n't\" : \"not\",\n",
        "    \"r's\" : \"rs\",\n",
        "    \"u're\" : \"your\",\n",
        "    \"a's\" : \" \",\n",
        "    \"e's\": \" \"\n",
        "}\n",
        "custom_stopwords = [w for w in set(stopwords.words(\"english\"))]\n",
        "custom_stopwords += list(punctuation)\n",
        "wordnet_lemmatizer = WordNetLemmatizer()\n",
        "\n",
        "def clean(text):\n",
        "  for i in range(len(text)):\n",
        "    text[i] = text[i].lower()\n",
        "    text[i] = text[i].replace(\"\\n\",\" \")\n",
        "\n",
        "    for keys,values in custom_contracts.items():\n",
        "      text[i] = text[i].replace(keys,values)\n",
        "    \n",
        "    text[i] = re.sub(\"[a-z]'[a-z]+\",\" \",text[i])\n",
        "    text[i] = re.sub(' +',' ',text[i])  #Removing whitespaces\n",
        "    text[i] = re.sub(r'[^\\x00-\\x7F]+',' ', text[i]) #Removing emoticons,and other languages\n",
        "    text[i] = re.sub('[(]?http[s]?://(?:[a-zA-Z]|[0-9]|[$-_@.&+#]|[!*\\(\\),]|(?:%[0-9a-fA-F][0-9a-fA-F])/)*', ' ', text[i])  #Removing URL's\n",
        "    text[i] = ''.join([j for j in text[i] if not j.isdigit()])  #Handling numbers\n",
        "    text[i] = text[i].split()\n",
        "    text[i] = ' '.join([word for word in text[i] if word not in  custom_stopwords])\n",
        "    text[i] = re.sub(r'[^\\w\\s]','',text[i]) #REmoving Punctuations\n",
        "    text[i] = [wordnet_lemmatizer.lemmatize(w) for w in word_tokenize(text[i])]   #Lemmatization\n",
        "    text[i] = [word for word in text[i] if len(word)>=3]  #Removing words which have less than 3 letters\n",
        "  return text\n",
        "\n",
        "RAW_DESCRIPTION = temp_train['DESCRIPTION'].tolist()\n",
        "CLEAN_DESCRIPTION = clean(RAW_DESCRIPTION)\n",
        "print(CLEAN_DESCRIPTION[:10])"
      ],
      "execution_count": null,
      "outputs": []
    },
    {
      "cell_type": "code",
      "metadata": {
        "id": "VaWlkRIMpV6W"
      },
      "source": [
        "corpus = []\n",
        "for text in CLEAN_DESCRIPTION:\n",
        "  for word in text:\n",
        "    corpus.append(word)\n",
        "\n",
        "counter = Counter(corpus)\n",
        "most=counter.most_common()\n",
        "x, y = [], []\n",
        "for word,count in most[:40]:\n",
        "  if (word not in custom_stopwords):\n",
        "    x.append(word)\n",
        "    y.append(count)\n",
        "\n",
        "plt.figure(figsize=(20,6))\n",
        "plt.title(\"40 Most Common Words relevant to Dataset\", fontsize=20)\n",
        "plt.ylabel(\"Words\", fontsize=20)\n",
        "plt.xlabel(\"Frequency\", fontsize=20)\n",
        "plt.xticks(rotation=90)            \n",
        "sns.barplot(x=x,y=y)"
      ],
      "execution_count": null,
      "outputs": []
    },
    {
      "cell_type": "code",
      "metadata": {
        "id": "2HQRF3RLpzU_"
      },
      "source": [
        "temp_clean_description = [\" \".join(sentence) for sentence in CLEAN_DESCRIPTION]\n",
        "temp_train[\"DESCRIPTION\"] = temp_clean_description                              #Replaced the Raw description with the clean description.\n",
        "temp_train"
      ],
      "execution_count": null,
      "outputs": []
    },
    {
      "cell_type": "markdown",
      "metadata": {
        "id": "GdRAmWHDwtwO"
      },
      "source": [
        "# TEST \n"
      ]
    },
    {
      "cell_type": "code",
      "metadata": {
        "colab": {
          "base_uri": "https://localhost:8080/",
          "height": 422
        },
        "id": "MMiGwbNTwrVd",
        "outputId": "15f44fcc-a454-4396-d503-b49ae8ecd784"
      },
      "source": [
        "test"
      ],
      "execution_count": null,
      "outputs": [
        {
          "output_type": "execute_result",
          "data": {
            "text/html": [
              "<div>\n",
              "<style scoped>\n",
              "    .dataframe tbody tr th:only-of-type {\n",
              "        vertical-align: middle;\n",
              "    }\n",
              "\n",
              "    .dataframe tbody tr th {\n",
              "        vertical-align: top;\n",
              "    }\n",
              "\n",
              "    .dataframe thead th {\n",
              "        text-align: right;\n",
              "    }\n",
              "</style>\n",
              "<table border=\"1\" class=\"dataframe\">\n",
              "  <thead>\n",
              "    <tr style=\"text-align: right;\">\n",
              "      <th></th>\n",
              "      <th>PRODUCT_ID</th>\n",
              "      <th>TITLE</th>\n",
              "      <th>DESCRIPTION</th>\n",
              "      <th>BULLET_POINTS</th>\n",
              "      <th>BRAND</th>\n",
              "    </tr>\n",
              "  </thead>\n",
              "  <tbody>\n",
              "    <tr>\n",
              "      <th>0</th>\n",
              "      <td>1</td>\n",
              "      <td>Command 3M Small Kitchen Hooks, White, Decorat...</td>\n",
              "      <td>Sale Unit: PACK</td>\n",
              "      <td>[INCLUDES - 9 hooks and 12 small indoor strips...</td>\n",
              "      <td>Command</td>\n",
              "    </tr>\n",
              "    <tr>\n",
              "      <th>1</th>\n",
              "      <td>2</td>\n",
              "      <td>O'Neal Jump Hardware JAG Unisex-Adult Glove (B...</td>\n",
              "      <td>Synthetic leather palm with double-layer thumb...</td>\n",
              "      <td>[Silicone printing for a better grip. Long las...</td>\n",
              "      <td>O'Neal</td>\n",
              "    </tr>\n",
              "    <tr>\n",
              "      <th>2</th>\n",
              "      <td>3</td>\n",
              "      <td>NFL Detroit Lions Portable Party Fridge, 15.8 ...</td>\n",
              "      <td>Boelter Brands lets you celebrate your favorit...</td>\n",
              "      <td>[Runs on 12 Volt DC Power or 110 Volt AC Power...</td>\n",
              "      <td>Boelter Brands</td>\n",
              "    </tr>\n",
              "    <tr>\n",
              "      <th>3</th>\n",
              "      <td>4</td>\n",
              "      <td>Panasonic Single Line KX-TS880MX Corded Phone ...</td>\n",
              "      <td>Features: 50 Station Phonebook Corded Phone Al...</td>\n",
              "      <td>Panasonic Landline Phones doesn't come with a ...</td>\n",
              "      <td>Panasonic</td>\n",
              "    </tr>\n",
              "    <tr>\n",
              "      <th>4</th>\n",
              "      <td>5</td>\n",
              "      <td>Zero Baby Girl's 100% Cotton Innerwear Bloomer...</td>\n",
              "      <td>Zero Baby Girl Panties Set. 100% Cotton, Breat...</td>\n",
              "      <td>[Zero Baby Girl Panties, Pack of 6, 100% Cotto...</td>\n",
              "      <td>Zero</td>\n",
              "    </tr>\n",
              "    <tr>\n",
              "      <th>...</th>\n",
              "      <td>...</td>\n",
              "      <td>...</td>\n",
              "      <td>...</td>\n",
              "      <td>...</td>\n",
              "      <td>...</td>\n",
              "    </tr>\n",
              "    <tr>\n",
              "      <th>110770</th>\n",
              "      <td>110771</td>\n",
              "      <td>AAHNA E MALL OneBlade Hybrid Trimmer Shaver An...</td>\n",
              "      <td>&lt;p&gt;1-All In One Hyper Advanced Smart Rechargea...</td>\n",
              "      <td>[Unique One Blade can style, trim and shave, w...</td>\n",
              "      <td>Generic</td>\n",
              "    </tr>\n",
              "    <tr>\n",
              "      <th>110771</th>\n",
              "      <td>110772</td>\n",
              "      <td>Grin Health N99 Anti Pollution Reusable Washab...</td>\n",
              "      <td>&lt;p&gt;SIZE GUIDE : M - (35- 65 Kg), L - (49- 72 K...</td>\n",
              "      <td>[PROTECTION: Filtration rate up to ≥99 percent...</td>\n",
              "      <td>Grin Health</td>\n",
              "    </tr>\n",
              "    <tr>\n",
              "      <th>110772</th>\n",
              "      <td>110773</td>\n",
              "      <td>Asian Army Pink Ultra reusable respirator clot...</td>\n",
              "      <td>Asian HyperProtect A95 masks have been enginee...</td>\n",
              "      <td>[Reusable and environment friendly: These mask...</td>\n",
              "      <td>ASIAN</td>\n",
              "    </tr>\n",
              "    <tr>\n",
              "      <th>110773</th>\n",
              "      <td>110774</td>\n",
              "      <td>IM Safe 3 Ply Non-Woven Disposable Surgical Fa...</td>\n",
              "      <td>This 3 Ply Disposable face mask is manufacture...</td>\n",
              "      <td>[3 Ply Mask: Genuine 3 Ply Mask. 25 GSM Spun B...</td>\n",
              "      <td>Intermarket</td>\n",
              "    </tr>\n",
              "    <tr>\n",
              "      <th>110774</th>\n",
              "      <td>110775</td>\n",
              "      <td>Artifie 100% Cotton Unisex Reusable Breathable...</td>\n",
              "      <td>Material : Cotton Printed, cotton thread, Soft...</td>\n",
              "      <td>[Eco Friendly, Reusable Cotton Masks for Face ...</td>\n",
              "      <td>Artifie</td>\n",
              "    </tr>\n",
              "  </tbody>\n",
              "</table>\n",
              "<p>110775 rows × 5 columns</p>\n",
              "</div>"
            ],
            "text/plain": [
              "        PRODUCT_ID  ...           BRAND\n",
              "0                1  ...         Command\n",
              "1                2  ...          O'Neal\n",
              "2                3  ...  Boelter Brands\n",
              "3                4  ...       Panasonic\n",
              "4                5  ...            Zero\n",
              "...            ...  ...             ...\n",
              "110770      110771  ...         Generic\n",
              "110771      110772  ...     Grin Health\n",
              "110772      110773  ...           ASIAN\n",
              "110773      110774  ...     Intermarket\n",
              "110774      110775  ...         Artifie\n",
              "\n",
              "[110775 rows x 5 columns]"
            ]
          },
          "metadata": {
            "tags": []
          },
          "execution_count": 21
        }
      ]
    },
    {
      "cell_type": "code",
      "metadata": {
        "colab": {
          "base_uri": "https://localhost:8080/"
        },
        "id": "0jl0BCxQxKDY",
        "outputId": "e1b2156a-4667-4a2a-a992-fb1030b49b90"
      },
      "source": [
        "test.isnull().sum()"
      ],
      "execution_count": null,
      "outputs": [
        {
          "output_type": "execute_result",
          "data": {
            "text/plain": [
              "PRODUCT_ID           0\n",
              "TITLE                7\n",
              "DESCRIPTION      10469\n",
              "BULLET_POINTS     6786\n",
              "BRAND             2430\n",
              "dtype: int64"
            ]
          },
          "metadata": {
            "tags": []
          },
          "execution_count": 22
        }
      ]
    },
    {
      "cell_type": "code",
      "metadata": {
        "id": "z4LJax6HxkJP"
      },
      "source": [
        "test = test[test['DESCRIPTION'].notna()]\n",
        "test = test[test['BULLET_POINTS'].notna()]\n",
        "test = test[test['BRAND'].notna()]\n",
        "test = test.reset_index(drop=True)"
      ],
      "execution_count": null,
      "outputs": []
    },
    {
      "cell_type": "code",
      "metadata": {
        "colab": {
          "base_uri": "https://localhost:8080/"
        },
        "id": "qU1TaS-AvbWg",
        "outputId": "bbf29e52-6e4b-4ce4-9cc7-75cec0b23eed"
      },
      "source": [
        "test.shape"
      ],
      "execution_count": null,
      "outputs": [
        {
          "output_type": "execute_result",
          "data": {
            "text/plain": [
              "(97800, 5)"
            ]
          },
          "metadata": {
            "tags": []
          },
          "execution_count": 25
        }
      ]
    },
    {
      "cell_type": "code",
      "metadata": {
        "colab": {
          "base_uri": "https://localhost:8080/"
        },
        "id": "PwA8efihvt_J",
        "outputId": "c9589d9f-2c00-411b-cd20-c28c0d11ac12"
      },
      "source": [
        "temp_test = test.sample(n = 4000)  \n",
        "temp_test = temp_test.reset_index(drop=True)\n",
        "temp_test.shape"
      ],
      "execution_count": null,
      "outputs": [
        {
          "output_type": "execute_result",
          "data": {
            "text/plain": [
              "(4000, 5)"
            ]
          },
          "metadata": {
            "tags": []
          },
          "execution_count": 26
        }
      ]
    },
    {
      "cell_type": "code",
      "metadata": {
        "colab": {
          "base_uri": "https://localhost:8080/"
        },
        "id": "4SEC5wATw3xx",
        "outputId": "cb962009-71b7-4e7b-a957-4680316a7e5f"
      },
      "source": [
        "#Cleaning \n",
        "from collections import Counter\n",
        "from string import ascii_letters, punctuation, digits\n",
        "\n",
        "corpus = ' '.join(temp_test['DESCRIPTION']).lower()\n",
        "characters = Counter(corpus)\n",
        "sorted(characters.items(), key=lambda i: i[1], reverse=True)\n",
        "\n",
        "total=0\n",
        "for i in ascii_letters+punctuation+digits:\n",
        "  total+=characters[i]\n",
        "\n",
        "print(\"The % of data consisting of only English Characters is {}.\".format(100*total/len(' '.join(temp_test['DESCRIPTION']))))\n",
        "print(\"\\n\")\n",
        "print(characters)"
      ],
      "execution_count": null,
      "outputs": [
        {
          "output_type": "stream",
          "text": [
            "The % of data consisting of only English Characters is 84.4847099586807.\n",
            "\n",
            "\n",
            "Counter({' ': 390165, 'e': 214339, 't': 161502, 'a': 153693, 'o': 148290, 'i': 139928, 'r': 139593, 's': 131327, 'n': 120237, 'l': 90553, 'c': 80872, 'h': 71944, 'd': 71275, 'p': 65412, 'u': 60479, 'm': 50588, 'b': 45924, 'f': 44938, 'g': 44445, 'y': 38012, 'w': 27409, '>': 27125, '<': 27098, '.': 25586, 'v': 20062, ',': 18941, 'k': 17269, '/': 16259, ':': 9660, '-': 7604, '1': 7138, 'x': 6586, '0': 5939, '2': 4646, '3': 3552, '5': 3364, 'z': 3297, 'q': 3269, '4': 2819, '&': 2738, '#': 2294, '6': 2289, ';': 2266, 'j': 2116, '8': 1791, ')': 1762, '(': 1659, \"'\": 1593, '7': 1478, '9': 1473, '*': 1275, '\"': 1110, '!': 709, '\\\\': 654, '%': 577, '\\xa0': 342, '’': 339, '+': 327, '?': 282, '—': 278, '|': 152, '=': 124, '°': 94, '”': 82, '“': 74, '–': 68, '~': 66, '✔': 65, '[': 60, ']': 60, '️': 50, '：': 46, '★': 44, '◆': 44, '❀': 44, '❤': 43, '\\xad': 40, '·': 38, '℃': 36, '✅': 33, '_': 31, '×': 31, '💌': 30, '☆': 28, '‘': 25, 'é': 24, '@': 22, '^': 18, 'â': 18, '±': 17, '🎉': 17, '（': 16, '➥': 16, '】': 15, '…': 14, '【': 14, 'º': 13, '☛': 13, '●': 13, '）': 12, '🔹': 12, '🔸': 12, '、': 12, '€': 11, '✦': 11, '♛': 10, '，': 9, '\\u200b': 9, '¼': 9, '{': 8, '➼': 8, 'ï': 8, '⚡': 8, 'ω': 7, '}': 7, '🔺': 7, '☘': 7, '☑': 6, '✿': 6, '✍': 6, '💫': 6, '◇': 6, '💠': 6, '👉': 6, '👈': 6, '»': 6, '≈': 6, '※': 5, '≤': 5, '◎': 5, '➫': 5, '®': 5, '👟': 5, '💕': 5, '🌟': 4, '≥': 4, '𝐌': 4, '𝐀': 4, '𝐒': 4, '𝐊': 4, '❶': 4, '❷': 4, '❸': 4, '❹': 4, '❖': 4, '》': 4, '►': 4, '„': 4, '‰': 4, '√': 4, '💖': 4, '³': 3, 'ò': 3, '℉': 3, 'μ': 3, '\\u2028': 3, 'ˆ': 3, '◄': 3, '！': 2, '㎡': 2, '🌞': 2, '🔎': 2, '🔍': 2, '❺': 2, '\\x92': 2, '▶': 2, 'ƒ': 2, '🎧': 2, 'š': 2, '¦': 2, 'ž': 2, 'õ': 2, '\\x9d': 2, '\\x8f': 2, '➤': 2, '✨': 2, '\\x99': 1, '🎀': 1, '£': 1, '″': 1, '‚': 1, '½': 1, 'è': 1, 'ã': 1, 'œ': 1, '`': 1, '›': 1, '❻': 1, '¸': 1, 'î': 1, '〇': 1, '﹡': 1, '△': 1, '🎊': 1, '\\x7f': 1, '\\uf076': 1})\n"
          ],
          "name": "stdout"
        }
      ]
    },
    {
      "cell_type": "code",
      "metadata": {
        "colab": {
          "base_uri": "https://localhost:8080/"
        },
        "id": "VyCFx2Y7x3zp",
        "outputId": "d93943c8-0736-4bc0-f5f1-6824960bf335"
      },
      "source": [
        "import re\n",
        "custom_contracts = {\n",
        "    \"women's\" : \"women\",\n",
        "    \"men's\" : \"men\",\n",
        "    \"girl's\" : \"girl\",\n",
        "    \"boy's\" : \"boy\",\n",
        "    \"don't\" : \"do not\",\n",
        "    \"product's\" : \"product\",\n",
        "    \"it's\" : \"its\",\n",
        "    \"bra's\" : \"bras\",\n",
        "    \"won't\": \"will not\",\n",
        "    \"doesn't\" : \"does not\",\n",
        "    \"l's\" : \" \",\n",
        "    \"n's\" : \" \",\n",
        "    \"y's\" : \" \",\n",
        "    \"n't\" : \"not\",\n",
        "    \"r's\" : \"rs\",\n",
        "    \"u're\" : \"your\",\n",
        "    \"a's\" : \" \",\n",
        "    \"e's\": \" \"\n",
        "}\n",
        "custom_stopwords = [w for w in set(stopwords.words(\"english\"))]\n",
        "custom_stopwords += list(punctuation)\n",
        "wordnet_lemmatizer = WordNetLemmatizer()\n",
        "\n",
        "def clean(text):\n",
        "  for i in range(len(text)):\n",
        "    text[i] = text[i].lower()\n",
        "    text[i] = text[i].replace(\"\\n\",\" \")\n",
        "\n",
        "    for keys,values in custom_contracts.items():\n",
        "      text[i] = text[i].replace(keys,values)\n",
        "    \n",
        "    text[i] = re.sub(\"[a-z]'[a-z]+\",\" \",text[i])\n",
        "    text[i] = re.sub(' +',' ',text[i])  #Removing whitespaces\n",
        "    text[i] = re.sub(r'[^\\x00-\\x7F]+',' ', text[i]) #Removing emoticons,and other languages\n",
        "    text[i] = re.sub('[(]?http[s]?://(?:[a-zA-Z]|[0-9]|[$-_@.&+#]|[!*\\(\\),]|(?:%[0-9a-fA-F][0-9a-fA-F])/)*', ' ', text[i])  #Removing URL's\n",
        "    text[i] = ''.join([j for j in text[i] if not j.isdigit()])  #Handling numbers\n",
        "    text[i] = text[i].split()\n",
        "    text[i] = ' '.join([word for word in text[i] if word not in  custom_stopwords])\n",
        "    text[i] = re.sub(r'[^\\w\\s]','',text[i]) #REmoving Punctuations\n",
        "    text[i] = [wordnet_lemmatizer.lemmatize(w) for w in word_tokenize(text[i])]   #Lemmatization\n",
        "    text[i] = [word for word in text[i] if len(word)>=3]  #Removing words which have less than 3 letters\n",
        "  return text\n",
        "\n",
        "RAW_DESCRIPTION = temp_test['DESCRIPTION'].tolist()\n",
        "CLEAN_DESCRIPTION = clean(RAW_DESCRIPTION)\n",
        "print(CLEAN_DESCRIPTION[:10])"
      ],
      "execution_count": null,
      "outputs": [
        {
          "output_type": "stream",
          "text": [
            "[['featuresbr', 'flexible', 'durable', 'soft', 'tpu', 'hard', 'material', 'hybrid', 'armor', 'defender', 'cover', 'builtin', 'stand', 'free', 'hand', 'viewing', 'readingbr', 'rugged', 'tpu', 'construction', 'allows', 'ultimate', 'tanklike', 'protection', 'shockabsorbencybr', 'precise', 'opening', 'allow', 'easy', 'access', 'button', 'port', 'without', 'removing', 'casebr', 'added', 'protection', 'scratch', 'shock', 'dust', 'brpackaging', 'include', 'case', 'samsung', 'galaxy', 'pro', 'galaxy', 'grand', 'prime', 'progalaxy', 'phone', 'supplied'], ['smart', 'synthetic', 'rich', 'leather', 'wallet', 'cover', 'must', 'accessory', 'mobile', 'wallet', 'feature', 'unique', 'way', 'get', 'full', 'optimization', 'mobile', 'get', 'convenience', 'card', 'pocket', 'cash', 'pocket', 'used', 'carry', 'card', 'cash', 'seamlessly', 'front', 'wallet', 'card', 'holder', 'rotated', 'use', 'carry', 'card', 'smart', 'cover', 'protect', 'mobile', 'impact', 'use', 'camera', 'flash', 'speaker', 'fingerprint', 'scanner', 'due', 'foldable', 'design', 'ultra', 'slim', 'lightweight', 'design', 'high', 'quality', 'sticking', 'surface', 'hold', 'mobile', 'firmly', 'reusable', 'removal', 'mobile', 'soft', 'high', 'quality', 'synthetic', 'rich', 'leather', 'outer', 'give', 'tactile', 'aesthetic', 'appeal', 'protects', 'latest', 'mobile', 'whilst', 'rich', 'leather', 'interior', 'add', 'strength', 'durability', 'case'], ['product', 'made', 'blended', 'finished', 'attractive', 'transparent', 'color', 'feature', 'floral', 'pattern', 'long', 'sleeve', 'button', 'front', 'buttoned', 'closure', 'targeted', 'towards', 'woman', 'furthermore', 'recommended', 'kept', 'away', 'extreme', 'heat', 'fire', 'corrosive', 'liquid', 'avoid', 'form', 'damage'], ['new', 'woman', 'leather', 'bowknot', 'backpack', 'school', 'bag', 'crossbody', 'bag', 'card', 'holderp', 'pabout', 'colorp', 'pall', 'product', 'image', 'taken', 'kindp', 'pthe', 'color', 'image', 'might', 'slightly', 'different', 'real', 'product', 'due', 'shooting', 'light', 'intensity', 'color', 'setting', 'individual', 'monitorp', 'pif', 'accept', 'slight', 'color', 'difference', 'please', 'place', 'orderp', 'phighgrade', 'leather', 'material', 'health', 'environmental', 'protection', 'wearresisting', 'durable', 'keep', 'card', 'money', 'thing', 'are', 'every', 'one', 'like', 'quite', 'convenient', 'shipping', 'hanging', 'around', 'street', 'enjoying', 'cup', 'coffee', 'cafe', 'give', 'life', 'comfort', 'easiness', 'long', 'enough', 'daily', 'usep', 'pnotep', 'pdue', 'different', 'producing', 'batch', 'product', 'detail', 'might', 'little', 'different', 'minding', 'difference', 'please', 'buy', 'carefullyp', 'pplease', 'allow', 'differs', 'due', 'manual', 'measurementp', 'pdue', 'different', 'display', 'different', 'light', 'picture', 'may', 'reflect', 'actual', 'color', 'item', 'thanks', 'understandingp', 'pmain', 'featuresp', 'pmaterial', 'leatherp', 'plining', 'material', 'polyester', 'cottonlining', 'color', 'randomp', 'pbackpack', 'size', 'approx', 'xxmmxxinp', 'pcrossbody', 'bag', 'size', 'approx', 'xxmmxxinp', 'pcard', 'holder', 'size', 'approx', 'xxmmxxinp', 'pgross', 'weight', 'approx', 'ptype', 'backpack', 'amp', 'crossbody', 'bag', 'amp', 'card', 'holderp', 'pshape', 'picture', 'shownp', 'phardness', 'softp', 'pgender', 'womenp', 'pnumber', 'handlesstraps', 'nop', 'pcolor', 'grayp', 'ppackage', 'includedpp', 'backpackp', 'crossbody', 'bagp', 'card', 'holder'], ['general', 'brand', 'jackly', 'model', 'number', 'type', 'combination', 'screwdriver', 'set', 'magnetic', 'shaft', 'yes', 'tip', 'type', 'torx', 'slot', 'phillips', 'shaft', 'material', 'steel', 'tip', 'material', 'steel', 'grip', 'material', 'rubber', 'color', 'yellow', 'red', 'box', 'sale', 'package', 'torx', 'hexagonal', 'bit', 'slotted', 'bit', 'philip', 'bit', 'speciality', 'bit', 'tweezer', 'handle', 'pack', 'dimension', 'tip', 'size', 'torx', 'slotted', 'philip', 'hex', 'speciality', 'mview', 'weight', 'dimension', 'handle', 'bit', 'height', 'tweezer'], ['know', 'fashion', 'fade', 'style', 'eternal', 'culture', 'stylish', 'vital', 'ahead', 'fashion', 'track', 'never', 'ignore', 'new', 'innovation', 'creativity', 'style', 'outline', 'utmost', 'quality', 'day', 'mobile', 'cover', 'designed', 'support', 'safeguard', 'gadget', 'fashion', 'statement', 'too', 'chiraiyaa', 'provides', 'chance', 'become', 'trend', 'setter', 'uncommon', 'appealing', 'design', 'xiaomi', 'redmi', 'prime', 'back', 'cover', 'chiraiyaa', 'belief', 'designing', 'mobile', 'cover', 'add', 'fun', 'charm', 'life', 'make', 'cynosure', 'wherever', 'every', 'product', 'vogue', 'also', 'durable', 'reliable', 'customer', 'satisfaction', 'make', 'difference', 'chiraiyaa', 'assures', 'customer', 'loyalty', 'priceless', 'designer', 'hard', 'back', 'case', 'cover', 'xiaomi', 'redmi', 'prime', 'ideal', 'want', 'quality', 'style'], ['power', 'smartphone', 'anywhere', 'anytime', 'shopbell', 'portable', 'usb', 'charger', 'compatible', 'smartphones', 'perfect', 'companion', 'providing', 'smartphone', 'required', 'charging', 'perfect', 'companion', 'providing', 'smartphone', 'required', 'charging', 'constant', 'voltage', 'charging', 'mode', 'safe', 'usage', 'compact', 'light', 'weight', 'ease', 'convenience', 'carry', 'arounduniversally', 'compatible', 'work', 'phone', 'tablet', 'smart', 'charge', 'auto', 'detects', 'connected', 'device', 'charge', 'fastest', 'speed', 'device', 'indian', 'connector', 'indian', 'connects', 'allow', 'plug', 'wall', 'charger', 'socket', 'charge', 'without', 'use', 'adapter', 'connector', 'independent', 'work', 'micro', 'usb', 'lightning', 'type', 'cable', 'round', 'safety', 'built', 'voltage', 'current', 'short', 'circuit', 'suge', 'protection', 'unit', 'never', 'worry', 'device'], ['pbrand', 'mark', 'amplep', 'pbenefitsp', 'lihelps', 'weight', 'lossli', 'lihelps', 'burning', 'tummy', 'fatli', 'liit', 'give', 'awesome', 'back', 'backingli', 'liyou', 'get', 'bend', 'lift', 'tuck', 'pressure', 'right', 'placesli', 'limaximizes', 'fitness', 'routinesli', 'lislim', 'waist', 'tummy', 'tightsli', 'liincrease', 'core', 'body', 'temperatureli', 'liimprove', 'overall', 'wellbeingli', 'lihelps', 'burning', 'tummy', 'fatli', 'lifaster', 'better', 'resultsli', 'pwashing', 'instructionsbr', 'recommended', 'wash', 'use', 'particularly', 'exercising', 'hand', 'wash', 'cold', 'water', 'soft', 'detergent', 'squeeze', 'drainp', 'lihand', 'wash', 'cli', 'lido', 'tumble', 'dryli', 'lido', 'bleachli', 'lido', 'ironli', 'lido', 'wringli', 'lido', 'dry', 'cleanli', 'liline', 'dry', 'hang', 'dryli'], ['pit', 'perfect', 'anyone', 'feel', 'hungry', 'thirsty', 'driving', 'keeping', 'snack', 'drink', 'accessible', 'time', 'enjoy', 'healthy', 'snack', 'cold', 'crisp', 'apple', 'yogurt', 'granola', 'dark', 'chocolate', 'melt', 'ready', 'eat', 'use', 'avoid', 'detouring', 'intended', 'driving', 'route', 'avoid', 'waiting', 'line', 'quench', 'thirst', 'purchase', 'warm', 'meal', 'continue', 'driving', 'destinationpppppackage', 'includepp', 'car', 'refrigeratorp'], ['premium', 'synthetic', 'suede', 'leather', 'great', 'job', 'holding', 'you', 'high', 'quality', 'case', 'nice', 'simple', 'design', 'xiaomi', 'fit', 'into', 'case', 'high', 'end', 'quality', 'pleasure', 'use']]\n"
          ],
          "name": "stdout"
        }
      ]
    },
    {
      "cell_type": "code",
      "metadata": {
        "colab": {
          "base_uri": "https://localhost:8080/",
          "height": 456
        },
        "id": "WaDrj6c3yNkX",
        "outputId": "c146f3a3-72a4-4174-dd11-3b09849f1e5f"
      },
      "source": [
        "temp_clean_description = [\" \".join(sentence) for sentence in CLEAN_DESCRIPTION]\n",
        "temp_test[\"DESCRIPTION\"] = temp_clean_description\n",
        "temp_test"
      ],
      "execution_count": null,
      "outputs": [
        {
          "output_type": "execute_result",
          "data": {
            "text/html": [
              "<div>\n",
              "<style scoped>\n",
              "    .dataframe tbody tr th:only-of-type {\n",
              "        vertical-align: middle;\n",
              "    }\n",
              "\n",
              "    .dataframe tbody tr th {\n",
              "        vertical-align: top;\n",
              "    }\n",
              "\n",
              "    .dataframe thead th {\n",
              "        text-align: right;\n",
              "    }\n",
              "</style>\n",
              "<table border=\"1\" class=\"dataframe\">\n",
              "  <thead>\n",
              "    <tr style=\"text-align: right;\">\n",
              "      <th></th>\n",
              "      <th>PRODUCT_ID</th>\n",
              "      <th>TITLE</th>\n",
              "      <th>DESCRIPTION</th>\n",
              "      <th>BULLET_POINTS</th>\n",
              "      <th>BRAND</th>\n",
              "    </tr>\n",
              "  </thead>\n",
              "  <tbody>\n",
              "    <tr>\n",
              "      <th>0</th>\n",
              "      <td>22623</td>\n",
              "      <td>BINGRAN Galaxy J2 Pro 2018 Case, Hybrid Hard P...</td>\n",
              "      <td>featuresbr flexible durable soft tpu hard mate...</td>\n",
              "      <td>[Compatibility: 100% Brand new case for Samsun...</td>\n",
              "      <td>BINGRAN</td>\n",
              "    </tr>\n",
              "    <tr>\n",
              "      <th>1</th>\n",
              "      <td>8133</td>\n",
              "      <td>Acm Wallet Leather Flip Carry Case Compatible ...</td>\n",
              "      <td>smart synthetic rich leather wallet cover must...</td>\n",
              "      <td>[Rich Leather Flip Flap Cover,Wallet Mobile Ca...</td>\n",
              "      <td>ACM</td>\n",
              "    </tr>\n",
              "    <tr>\n",
              "      <th>2</th>\n",
              "      <td>40431</td>\n",
              "      <td>Romano nx Women's Rain Skirt and Rain Jacket P...</td>\n",
              "      <td>product made blended finished attractive trans...</td>\n",
              "      <td>[Material: Blended,Color: Red,Closure: Buttone...</td>\n",
              "      <td>Romano</td>\n",
              "    </tr>\n",
              "    <tr>\n",
              "      <th>3</th>\n",
              "      <td>96409</td>\n",
              "      <td>Gowind-in Women's PU Leather Bowknot 3 Pieces ...</td>\n",
              "      <td>new woman leather bowknot backpack school bag ...</td>\n",
              "      <td>[Backpack ♥ Size: Approx. 280x240x110mm/11.02x...</td>\n",
              "      <td>Gowind-in</td>\n",
              "    </tr>\n",
              "    <tr>\n",
              "      <th>4</th>\n",
              "      <td>57911</td>\n",
              "      <td>Jackly 6032-A Combination Screwdriver Set</td>\n",
              "      <td>general brand jackly model number type combina...</td>\n",
              "      <td>[All in one compact pocket-sized case for easy...</td>\n",
              "      <td>Jackly</td>\n",
              "    </tr>\n",
              "    <tr>\n",
              "      <th>...</th>\n",
              "      <td>...</td>\n",
              "      <td>...</td>\n",
              "      <td>...</td>\n",
              "      <td>...</td>\n",
              "      <td>...</td>\n",
              "    </tr>\n",
              "    <tr>\n",
              "      <th>3995</th>\n",
              "      <td>10716</td>\n",
              "      <td>Angel's Fashion Girl's Rayon Fabric Off-Should...</td>\n",
              "      <td>get stylish offshoulder mustard color rayon fa...</td>\n",
              "      <td>[This off shoulder top is made of fine rayon f...</td>\n",
              "      <td>Angel's Fashion</td>\n",
              "    </tr>\n",
              "    <tr>\n",
              "      <th>3996</th>\n",
              "      <td>65302</td>\n",
              "      <td>Rose Kids Unisex Woolen Beanie Cap with Tie Kn...</td>\n",
              "      <td>rose present cap little one add styling factor...</td>\n",
              "      <td>[Suitable for 1 - 5 Years,Ear Flaps for extra ...</td>\n",
              "      <td>Unknown</td>\n",
              "    </tr>\n",
              "    <tr>\n",
              "      <th>3997</th>\n",
              "      <td>9045</td>\n",
              "      <td>NIMKOS Refrigerator Cover, Handle Cover and Ma...</td>\n",
              "      <td>key feature product fridge top come utility po...</td>\n",
              "      <td>[Content - 3 pieces of mat and Fridge Top Cove...</td>\n",
              "      <td>NIMKOS</td>\n",
              "    </tr>\n",
              "    <tr>\n",
              "      <th>3998</th>\n",
              "      <td>110732</td>\n",
              "      <td>ELECTROPRIME K-21 256GB Cartoon High Speed Sho...</td>\n",
              "      <td>electroprime cartoon high speed shockproof dis...</td>\n",
              "      <td>[Condition- New,Package includes- 1 pcs only,F...</td>\n",
              "      <td>ELECTROPRIME</td>\n",
              "    </tr>\n",
              "    <tr>\n",
              "      <th>3999</th>\n",
              "      <td>40773</td>\n",
              "      <td>Hanumex® Small (4 Feet) Light Stand for Umbrel...</td>\n",
              "      <td>weight maximum height foot folded height foot ...</td>\n",
              "      <td>[Be Aware from Other Seller Only Buy the Origi...</td>\n",
              "      <td>HANUMEX</td>\n",
              "    </tr>\n",
              "  </tbody>\n",
              "</table>\n",
              "<p>4000 rows × 5 columns</p>\n",
              "</div>"
            ],
            "text/plain": [
              "      PRODUCT_ID  ...            BRAND\n",
              "0          22623  ...          BINGRAN\n",
              "1           8133  ...              ACM\n",
              "2          40431  ...           Romano\n",
              "3          96409  ...        Gowind-in\n",
              "4          57911  ...           Jackly\n",
              "...          ...  ...              ...\n",
              "3995       10716  ...  Angel's Fashion\n",
              "3996       65302  ...          Unknown\n",
              "3997        9045  ...           NIMKOS\n",
              "3998      110732  ...     ELECTROPRIME\n",
              "3999       40773  ...          HANUMEX\n",
              "\n",
              "[4000 rows x 5 columns]"
            ]
          },
          "metadata": {
            "tags": []
          },
          "execution_count": 30
        }
      ]
    },
    {
      "cell_type": "code",
      "metadata": {
        "id": "B4Pq9RVWyu1U"
      },
      "source": [
        "#DROPPING PRODUCT ID COLUMN \n",
        "save_product = test['PRODUCT_ID']\n",
        "test.drop(columns='PRODUCT_ID', inplace = True)\n"
      ],
      "execution_count": null,
      "outputs": []
    },
    {
      "cell_type": "markdown",
      "metadata": {
        "id": "RyzJRmgR5lDr"
      },
      "source": [
        "# Lets Try Some Model"
      ]
    },
    {
      "cell_type": "code",
      "metadata": {
        "id": "3FTuvTms6GJ2",
        "colab": {
          "base_uri": "https://localhost:8080/",
          "height": 595
        },
        "outputId": "0f978282-ea2d-47ad-a41e-086dad5c57a8"
      },
      "source": [
        "temp_train"
      ],
      "execution_count": null,
      "outputs": [
        {
          "output_type": "execute_result",
          "data": {
            "text/html": [
              "<div>\n",
              "<style scoped>\n",
              "    .dataframe tbody tr th:only-of-type {\n",
              "        vertical-align: middle;\n",
              "    }\n",
              "\n",
              "    .dataframe tbody tr th {\n",
              "        vertical-align: top;\n",
              "    }\n",
              "\n",
              "    .dataframe thead th {\n",
              "        text-align: right;\n",
              "    }\n",
              "</style>\n",
              "<table border=\"1\" class=\"dataframe\">\n",
              "  <thead>\n",
              "    <tr style=\"text-align: right;\">\n",
              "      <th></th>\n",
              "      <th>TITLE</th>\n",
              "      <th>DESCRIPTION</th>\n",
              "      <th>BULLET_POINTS</th>\n",
              "      <th>BRAND</th>\n",
              "      <th>BROWSE_NODE_ID</th>\n",
              "    </tr>\n",
              "  </thead>\n",
              "  <tbody>\n",
              "    <tr>\n",
              "      <th>0</th>\n",
              "      <td>Maxwest Orbit Z50 Compatible Bluetooth Capsule...</td>\n",
              "      <td>Play the audio through Bluetooth Version V3.0 ...</td>\n",
              "      <td>[Supports Wireless Music Streaming via New Blu...</td>\n",
              "      <td>Celltool</td>\n",
              "      <td>1966</td>\n",
              "    </tr>\n",
              "    <tr>\n",
              "      <th>1</th>\n",
              "      <td>EDGELEC 100pcs 360 ohm Resistor 1/4w (0.25 Wat...</td>\n",
              "      <td>&lt;b&gt;100pcs - 360 ohm - 0.25 Watt (1/4W) Metal F...</td>\n",
              "      <td>[Metal Film Resistor: Excellent Noise Suppress...</td>\n",
              "      <td>EDGELEC</td>\n",
              "      <td>6191</td>\n",
              "    </tr>\n",
              "    <tr>\n",
              "      <th>2</th>\n",
              "      <td>Younky Sunglasses for Men's And Boy's With Blu...</td>\n",
              "      <td>Younky Sunglasses for Men's And Boy's With Blu...</td>\n",
              "      <td>[Younky Latest Combo offer of Sunglasses for M...</td>\n",
              "      <td>Younky</td>\n",
              "      <td>16033</td>\n",
              "    </tr>\n",
              "    <tr>\n",
              "      <th>3</th>\n",
              "      <td>TP-LINK Archer T8E AC1750 Dual Band Wireless P...</td>\n",
              "      <td>TP-LINK ARCHER T8E AC1750 Dual-Band Wireless P...</td>\n",
              "      <td>[TP-LINK,Original Product]</td>\n",
              "      <td>TP-Link</td>\n",
              "      <td>1198</td>\n",
              "    </tr>\n",
              "    <tr>\n",
              "      <th>4</th>\n",
              "      <td>YOTOVA Redmita Stylish Latest Design Sling Han...</td>\n",
              "      <td>YOTOVA is offering you a ladies handbag. It is...</td>\n",
              "      <td>[Material-PU, Inner Material- Polyester, Color...</td>\n",
              "      <td>YOTOVA</td>\n",
              "      <td>1072</td>\n",
              "    </tr>\n",
              "    <tr>\n",
              "      <th>...</th>\n",
              "      <td>...</td>\n",
              "      <td>...</td>\n",
              "      <td>...</td>\n",
              "      <td>...</td>\n",
              "      <td>...</td>\n",
              "    </tr>\n",
              "    <tr>\n",
              "      <th>110770</th>\n",
              "      <td>Ywoow Unisex Baby Winter Earmuffs Winter Ear W...</td>\n",
              "      <td>&lt;br&gt;Unisex Baby Winter Earmuffs Winter Ear War...</td>\n",
              "      <td>[✡ cute toddler baby girls clothes set long sl...</td>\n",
              "      <td>Ywoow</td>\n",
              "      <td>1239</td>\n",
              "    </tr>\n",
              "    <tr>\n",
              "      <th>110771</th>\n",
              "      <td>Uniq Green with White Color Marble Pebbles (10...</td>\n",
              "      <td>Gravels are one of the most important part of ...</td>\n",
              "      <td>[material:-colored marble,Color:- Green With W...</td>\n",
              "      <td>uniq world wide</td>\n",
              "      <td>97741</td>\n",
              "    </tr>\n",
              "    <tr>\n",
              "      <th>110772</th>\n",
              "      <td>Case Creation Retro Army Green 3D Military Cam...</td>\n",
              "      <td>&lt;ul&gt;Why Choose &lt;b&gt;Case Creation?&lt;/b&gt;&lt;br&gt;&lt;br&gt;&lt;l...</td>\n",
              "      <td>[3D RELIEF ARMY STYLING SERIES - Comfortable t...</td>\n",
              "      <td>Case Creation</td>\n",
              "      <td>1045</td>\n",
              "    </tr>\n",
              "    <tr>\n",
              "      <th>110773</th>\n",
              "      <td>Zeneme Dancing Peacock American Diamond Bangle...</td>\n",
              "      <td>Zeneme welcomes you to the world of designer j...</td>\n",
              "      <td>[American Diamond Bangles,Bangles For Wedding ...</td>\n",
              "      <td>ZENEME</td>\n",
              "      <td>396</td>\n",
              "    </tr>\n",
              "    <tr>\n",
              "      <th>110774</th>\n",
              "      <td>6TH AVENUE STREETWEAR Women's Cotton Angrakha ...</td>\n",
              "      <td>6TH AVENUE STREETWEAR Sky Blue Umbrella Print ...</td>\n",
              "      <td>[Material: Cotton,Sleeve Length : Three-Quarte...</td>\n",
              "      <td>6TH AVENUE STREETWEAR</td>\n",
              "      <td>1251</td>\n",
              "    </tr>\n",
              "  </tbody>\n",
              "</table>\n",
              "<p>110775 rows × 5 columns</p>\n",
              "</div>"
            ],
            "text/plain": [
              "                                                    TITLE  ... BROWSE_NODE_ID\n",
              "0       Maxwest Orbit Z50 Compatible Bluetooth Capsule...  ...           1966\n",
              "1       EDGELEC 100pcs 360 ohm Resistor 1/4w (0.25 Wat...  ...           6191\n",
              "2       Younky Sunglasses for Men's And Boy's With Blu...  ...          16033\n",
              "3       TP-LINK Archer T8E AC1750 Dual Band Wireless P...  ...           1198\n",
              "4       YOTOVA Redmita Stylish Latest Design Sling Han...  ...           1072\n",
              "...                                                   ...  ...            ...\n",
              "110770  Ywoow Unisex Baby Winter Earmuffs Winter Ear W...  ...           1239\n",
              "110771  Uniq Green with White Color Marble Pebbles (10...  ...          97741\n",
              "110772  Case Creation Retro Army Green 3D Military Cam...  ...           1045\n",
              "110773  Zeneme Dancing Peacock American Diamond Bangle...  ...            396\n",
              "110774  6TH AVENUE STREETWEAR Women's Cotton Angrakha ...  ...           1251\n",
              "\n",
              "[110775 rows x 5 columns]"
            ]
          },
          "metadata": {
            "tags": []
          },
          "execution_count": 76
        }
      ]
    },
    {
      "cell_type": "code",
      "metadata": {
        "colab": {
          "base_uri": "https://localhost:8080/",
          "height": 456
        },
        "id": "3QgaXmy716Et",
        "outputId": "80e06db0-c2f1-43a1-fb56-e5cbb7a23b85"
      },
      "source": [
        "temp_test"
      ],
      "execution_count": null,
      "outputs": [
        {
          "output_type": "execute_result",
          "data": {
            "text/html": [
              "<div>\n",
              "<style scoped>\n",
              "    .dataframe tbody tr th:only-of-type {\n",
              "        vertical-align: middle;\n",
              "    }\n",
              "\n",
              "    .dataframe tbody tr th {\n",
              "        vertical-align: top;\n",
              "    }\n",
              "\n",
              "    .dataframe thead th {\n",
              "        text-align: right;\n",
              "    }\n",
              "</style>\n",
              "<table border=\"1\" class=\"dataframe\">\n",
              "  <thead>\n",
              "    <tr style=\"text-align: right;\">\n",
              "      <th></th>\n",
              "      <th>PRODUCT_ID</th>\n",
              "      <th>TITLE</th>\n",
              "      <th>DESCRIPTION</th>\n",
              "      <th>BULLET_POINTS</th>\n",
              "      <th>BRAND</th>\n",
              "    </tr>\n",
              "  </thead>\n",
              "  <tbody>\n",
              "    <tr>\n",
              "      <th>0</th>\n",
              "      <td>22623</td>\n",
              "      <td>BINGRAN Galaxy J2 Pro 2018 Case, Hybrid Hard P...</td>\n",
              "      <td>featuresbr flexible durable soft tpu hard mate...</td>\n",
              "      <td>[Compatibility: 100% Brand new case for Samsun...</td>\n",
              "      <td>BINGRAN</td>\n",
              "    </tr>\n",
              "    <tr>\n",
              "      <th>1</th>\n",
              "      <td>8133</td>\n",
              "      <td>Acm Wallet Leather Flip Carry Case Compatible ...</td>\n",
              "      <td>smart synthetic rich leather wallet cover must...</td>\n",
              "      <td>[Rich Leather Flip Flap Cover,Wallet Mobile Ca...</td>\n",
              "      <td>ACM</td>\n",
              "    </tr>\n",
              "    <tr>\n",
              "      <th>2</th>\n",
              "      <td>40431</td>\n",
              "      <td>Romano nx Women's Rain Skirt and Rain Jacket P...</td>\n",
              "      <td>product made blended finished attractive trans...</td>\n",
              "      <td>[Material: Blended,Color: Red,Closure: Buttone...</td>\n",
              "      <td>Romano</td>\n",
              "    </tr>\n",
              "    <tr>\n",
              "      <th>3</th>\n",
              "      <td>96409</td>\n",
              "      <td>Gowind-in Women's PU Leather Bowknot 3 Pieces ...</td>\n",
              "      <td>new woman leather bowknot backpack school bag ...</td>\n",
              "      <td>[Backpack ♥ Size: Approx. 280x240x110mm/11.02x...</td>\n",
              "      <td>Gowind-in</td>\n",
              "    </tr>\n",
              "    <tr>\n",
              "      <th>4</th>\n",
              "      <td>57911</td>\n",
              "      <td>Jackly 6032-A Combination Screwdriver Set</td>\n",
              "      <td>general brand jackly model number type combina...</td>\n",
              "      <td>[All in one compact pocket-sized case for easy...</td>\n",
              "      <td>Jackly</td>\n",
              "    </tr>\n",
              "    <tr>\n",
              "      <th>...</th>\n",
              "      <td>...</td>\n",
              "      <td>...</td>\n",
              "      <td>...</td>\n",
              "      <td>...</td>\n",
              "      <td>...</td>\n",
              "    </tr>\n",
              "    <tr>\n",
              "      <th>3995</th>\n",
              "      <td>10716</td>\n",
              "      <td>Angel's Fashion Girl's Rayon Fabric Off-Should...</td>\n",
              "      <td>get stylish offshoulder mustard color rayon fa...</td>\n",
              "      <td>[This off shoulder top is made of fine rayon f...</td>\n",
              "      <td>Angel's Fashion</td>\n",
              "    </tr>\n",
              "    <tr>\n",
              "      <th>3996</th>\n",
              "      <td>65302</td>\n",
              "      <td>Rose Kids Unisex Woolen Beanie Cap with Tie Kn...</td>\n",
              "      <td>rose present cap little one add styling factor...</td>\n",
              "      <td>[Suitable for 1 - 5 Years,Ear Flaps for extra ...</td>\n",
              "      <td>Unknown</td>\n",
              "    </tr>\n",
              "    <tr>\n",
              "      <th>3997</th>\n",
              "      <td>9045</td>\n",
              "      <td>NIMKOS Refrigerator Cover, Handle Cover and Ma...</td>\n",
              "      <td>key feature product fridge top come utility po...</td>\n",
              "      <td>[Content - 3 pieces of mat and Fridge Top Cove...</td>\n",
              "      <td>NIMKOS</td>\n",
              "    </tr>\n",
              "    <tr>\n",
              "      <th>3998</th>\n",
              "      <td>110732</td>\n",
              "      <td>ELECTROPRIME K-21 256GB Cartoon High Speed Sho...</td>\n",
              "      <td>electroprime cartoon high speed shockproof dis...</td>\n",
              "      <td>[Condition- New,Package includes- 1 pcs only,F...</td>\n",
              "      <td>ELECTROPRIME</td>\n",
              "    </tr>\n",
              "    <tr>\n",
              "      <th>3999</th>\n",
              "      <td>40773</td>\n",
              "      <td>Hanumex® Small (4 Feet) Light Stand for Umbrel...</td>\n",
              "      <td>weight maximum height foot folded height foot ...</td>\n",
              "      <td>[Be Aware from Other Seller Only Buy the Origi...</td>\n",
              "      <td>HANUMEX</td>\n",
              "    </tr>\n",
              "  </tbody>\n",
              "</table>\n",
              "<p>4000 rows × 5 columns</p>\n",
              "</div>"
            ],
            "text/plain": [
              "      PRODUCT_ID  ...            BRAND\n",
              "0          22623  ...          BINGRAN\n",
              "1           8133  ...              ACM\n",
              "2          40431  ...           Romano\n",
              "3          96409  ...        Gowind-in\n",
              "4          57911  ...           Jackly\n",
              "...          ...  ...              ...\n",
              "3995       10716  ...  Angel's Fashion\n",
              "3996       65302  ...          Unknown\n",
              "3997        9045  ...           NIMKOS\n",
              "3998      110732  ...     ELECTROPRIME\n",
              "3999       40773  ...          HANUMEX\n",
              "\n",
              "[4000 rows x 5 columns]"
            ]
          },
          "metadata": {
            "tags": []
          },
          "execution_count": 32
        }
      ]
    },
    {
      "cell_type": "code",
      "metadata": {
        "id": "QrWVb1ADxBrD"
      },
      "source": [
        "from nltk.corpus import stopwords\n",
        "from nltk.tokenize import word_tokenize\n",
        "from sklearn.model_selection import train_test_split\n",
        "from nltk.stem import WordNetLemmatizer\n",
        "from sklearn.feature_extraction.text import CountVectorizer, TfidfTransformer\n",
        "from sklearn.metrics import accuracy_score, confusion_matrix, classification_report\n",
        "from sklearn.metrics import roc_curve, auc, roc_auc_score"
      ],
      "execution_count": null,
      "outputs": []
    },
    {
      "cell_type": "code",
      "metadata": {
        "id": "HNEob0NzxJUf"
      },
      "source": [
        "def k_nearest_neighbours(x,y):\n",
        "  from sklearn.neighbors import KNeighborsClassifier\n",
        "\n",
        "  #splitting the dataset into training and test parts\n",
        "  x_train, x_test, y_train, y_test = train_test_split(x, y, test_size=0.2, random_state=42)\n",
        " \n",
        "  #bag of words implmentation\n",
        "  cv = CountVectorizer()\n",
        "  x_train = cv.fit_transform(x_train).toarray()\n",
        "\n",
        "  #TF-IDF implementation\n",
        "  vector = TfidfTransformer()\n",
        "  x_train = vector.fit_transform(x_train).toarray()\n",
        "  x_test = cv.transform(x_test)\n",
        "\n",
        "  #fitting the training dataset to the model\n",
        "  knn_model = KNeighborsClassifier(algorithm='brute')\n",
        "  knn_model.fit(x_train,y_train)\n",
        "  knn_predict = knn_model.predict(x_test)\n",
        "\n",
        "  #evaluation metrics for the dataset\n",
        "  print(\"Validation Accuracy: \",100*accuracy_score(y_test, knn_predict))\n",
        "\n",
        "  # print(\"\\n\")\n",
        "  # print(\"*********** CONFUSION MATRIX **************\")\n",
        "  # print(confusion_matrix(y_test, knn_predict))\n",
        "\n",
        "  # print(\"\\n\")\n",
        "  # print(\"*********** CLASSIFICATION REPORT **************\")\n",
        "  # print(classification_report(y_test, knn_predict))\n",
        "\n",
        "  return y_test, knn_predict"
      ],
      "execution_count": null,
      "outputs": []
    },
    {
      "cell_type": "code",
      "metadata": {
        "colab": {
          "base_uri": "https://localhost:8080/"
        },
        "id": "CaIUbg7NxWHP",
        "outputId": "9dd74682-6de4-472e-b71a-11312a668614"
      },
      "source": [
        "print(\"********** K NEAREST NEIGHBOURS *************\")\n",
        "x = temp_train['BRAND']             # String\n",
        "y = temp_train['BROWSE_NODE_ID']    # int\n",
        "\n",
        "y_test, knn_predict = k_nearest_neighbours(x,y)"
      ],
      "execution_count": null,
      "outputs": [
        {
          "output_type": "stream",
          "text": [
            "********** K NEAREST NEIGHBOURS *************\n"
          ],
          "name": "stdout"
        }
      ]
    },
    {
      "cell_type": "code",
      "metadata": {
        "colab": {
          "base_uri": "https://localhost:8080/"
        },
        "id": "g-M0wsXJxzPN",
        "outputId": "3b1c955a-21d5-4bcf-f33c-61cbf96d8fbd"
      },
      "source": [
        "knn_predict.shape"
      ],
      "execution_count": null,
      "outputs": [
        {
          "output_type": "execute_result",
          "data": {
            "text/plain": [
              "(3400,)"
            ]
          },
          "metadata": {
            "tags": []
          },
          "execution_count": 43
        }
      ]
    },
    {
      "cell_type": "code",
      "metadata": {
        "id": "ABkTJNxkF8E2"
      },
      "source": [
        "from sklearn.tree import DecisionTreeClassifier\n",
        "model=DecisionTreeClassifier()\n",
        "\n",
        "x = temp_train['BRAND']             # String\n",
        "y = temp_train['BROWSE_NODE_ID']    # int\n",
        "\n",
        "#bag of words implmentation\n",
        "cv = CountVectorizer()\n",
        "x = cv.fit_transform(x).toarray()\n",
        "#TF-IDF implementation\n",
        "vector = TfidfTransformer()\n",
        "x = vector.fit_transform(x).toarray()\n",
        "\n",
        "model.fit(x,y)"
      ],
      "execution_count": null,
      "outputs": []
    },
    {
      "cell_type": "code",
      "metadata": {
        "id": "PtzYKa-d9mar"
      },
      "source": [
        "z = test['BRAND']\n",
        "#bag of words implmentation\n",
        "cv = CountVectorizer()\n",
        "z = cv.fit_transform(z).toarray()\n",
        "#TF-IDF implementation\n",
        "vector = TfidfTransformer()\n",
        "z = vector.fit_transform(z).toarray()\n",
        "\n",
        "result = model.predict(z)"
      ],
      "execution_count": null,
      "outputs": []
    },
    {
      "cell_type": "code",
      "metadata": {
        "id": "Aoa_K83Z-Eoz"
      },
      "source": [
        "result = knn_predict"
      ],
      "execution_count": null,
      "outputs": []
    },
    {
      "cell_type": "code",
      "metadata": {
        "id": "Vo9bRR5w-GZ2",
        "colab": {
          "base_uri": "https://localhost:8080/"
        },
        "outputId": "abad6500-4628-428c-b83b-11a7d81e1eea"
      },
      "source": [
        "result.shape"
      ],
      "execution_count": null,
      "outputs": [
        {
          "output_type": "execute_result",
          "data": {
            "text/plain": [
              "(3400,)"
            ]
          },
          "metadata": {
            "tags": []
          },
          "execution_count": 45
        }
      ]
    },
    {
      "cell_type": "code",
      "metadata": {
        "colab": {
          "base_uri": "https://localhost:8080/"
        },
        "id": "sqAGSr9Y4IRF",
        "outputId": "cd2f480c-9750-46a7-9ec0-e7fdd145608f"
      },
      "source": [
        "!pip install xlsxwriter"
      ],
      "execution_count": null,
      "outputs": [
        {
          "output_type": "stream",
          "text": [
            "Collecting xlsxwriter\n",
            "  Downloading XlsxWriter-1.4.5-py2.py3-none-any.whl (149 kB)\n",
            "\u001b[?25l\r\u001b[K     |██▏                             | 10 kB 34.5 MB/s eta 0:00:01\r\u001b[K     |████▍                           | 20 kB 33.9 MB/s eta 0:00:01\r\u001b[K     |██████▋                         | 30 kB 20.4 MB/s eta 0:00:01\r\u001b[K     |████████▊                       | 40 kB 16.7 MB/s eta 0:00:01\r\u001b[K     |███████████                     | 51 kB 9.3 MB/s eta 0:00:01\r\u001b[K     |█████████████▏                  | 61 kB 9.1 MB/s eta 0:00:01\r\u001b[K     |███████████████▎                | 71 kB 8.6 MB/s eta 0:00:01\r\u001b[K     |█████████████████▌              | 81 kB 9.6 MB/s eta 0:00:01\r\u001b[K     |███████████████████▊            | 92 kB 9.9 MB/s eta 0:00:01\r\u001b[K     |█████████████████████▉          | 102 kB 8.7 MB/s eta 0:00:01\r\u001b[K     |████████████████████████        | 112 kB 8.7 MB/s eta 0:00:01\r\u001b[K     |██████████████████████████▎     | 122 kB 8.7 MB/s eta 0:00:01\r\u001b[K     |████████████████████████████▌   | 133 kB 8.7 MB/s eta 0:00:01\r\u001b[K     |██████████████████████████████▋ | 143 kB 8.7 MB/s eta 0:00:01\r\u001b[K     |████████████████████████████████| 149 kB 8.7 MB/s \n",
            "\u001b[?25hInstalling collected packages: xlsxwriter\n",
            "Successfully installed xlsxwriter-1.4.5\n"
          ],
          "name": "stdout"
        }
      ]
    },
    {
      "cell_type": "code",
      "metadata": {
        "id": "oNYd7CAh0-Vc"
      },
      "source": [
        "#SAVING FORMAT\n",
        "import xlsxwriter\n",
        "df=pd.DataFrame({'BROWSE_NODE_ID':result})\n",
        "writer=pd.ExcelWriter('mount_coders_submission.xlsx',engine='xlsxwriter')\n",
        "df.to_excel(writer,index=False,sheet_name='first')\n",
        "writer.save()"
      ],
      "execution_count": null,
      "outputs": []
    },
    {
      "cell_type": "code",
      "metadata": {
        "colab": {
          "base_uri": "https://localhost:8080/",
          "height": 422
        },
        "id": "_YacaCMe4SfZ",
        "outputId": "c8a24022-873f-48cc-e43a-efdd04e9a092"
      },
      "source": [
        "check = pd.read_excel(\"mount_coders_submission.xlsx\")\n",
        "check"
      ],
      "execution_count": null,
      "outputs": [
        {
          "output_type": "execute_result",
          "data": {
            "text/html": [
              "<div>\n",
              "<style scoped>\n",
              "    .dataframe tbody tr th:only-of-type {\n",
              "        vertical-align: middle;\n",
              "    }\n",
              "\n",
              "    .dataframe tbody tr th {\n",
              "        vertical-align: top;\n",
              "    }\n",
              "\n",
              "    .dataframe thead th {\n",
              "        text-align: right;\n",
              "    }\n",
              "</style>\n",
              "<table border=\"1\" class=\"dataframe\">\n",
              "  <thead>\n",
              "    <tr style=\"text-align: right;\">\n",
              "      <th></th>\n",
              "      <th>BROWSE_NODE_ID</th>\n",
              "    </tr>\n",
              "  </thead>\n",
              "  <tbody>\n",
              "    <tr>\n",
              "      <th>0</th>\n",
              "      <td>449</td>\n",
              "    </tr>\n",
              "    <tr>\n",
              "      <th>1</th>\n",
              "      <td>558</td>\n",
              "    </tr>\n",
              "    <tr>\n",
              "      <th>2</th>\n",
              "      <td>42</td>\n",
              "    </tr>\n",
              "    <tr>\n",
              "      <th>3</th>\n",
              "      <td>912</td>\n",
              "    </tr>\n",
              "    <tr>\n",
              "      <th>4</th>\n",
              "      <td>1267</td>\n",
              "    </tr>\n",
              "    <tr>\n",
              "      <th>...</th>\n",
              "      <td>...</td>\n",
              "    </tr>\n",
              "    <tr>\n",
              "      <th>3395</th>\n",
              "      <td>1267</td>\n",
              "    </tr>\n",
              "    <tr>\n",
              "      <th>3396</th>\n",
              "      <td>149</td>\n",
              "    </tr>\n",
              "    <tr>\n",
              "      <th>3397</th>\n",
              "      <td>1045</td>\n",
              "    </tr>\n",
              "    <tr>\n",
              "      <th>3398</th>\n",
              "      <td>3711</td>\n",
              "    </tr>\n",
              "    <tr>\n",
              "      <th>3399</th>\n",
              "      <td>1267</td>\n",
              "    </tr>\n",
              "  </tbody>\n",
              "</table>\n",
              "<p>3400 rows × 1 columns</p>\n",
              "</div>"
            ],
            "text/plain": [
              "      BROWSE_NODE_ID\n",
              "0                449\n",
              "1                558\n",
              "2                 42\n",
              "3                912\n",
              "4               1267\n",
              "...              ...\n",
              "3395            1267\n",
              "3396             149\n",
              "3397            1045\n",
              "3398            3711\n",
              "3399            1267\n",
              "\n",
              "[3400 rows x 1 columns]"
            ]
          },
          "metadata": {
            "tags": []
          },
          "execution_count": 68
        }
      ]
    },
    {
      "cell_type": "code",
      "metadata": {
        "id": "zosgi0nF474H"
      },
      "source": [
        "data=[]\n",
        "for i in range(1,3401):\n",
        "  data.append(i)"
      ],
      "execution_count": null,
      "outputs": []
    },
    {
      "cell_type": "code",
      "metadata": {
        "id": "5PFnpX3D5PIF"
      },
      "source": [
        "check.insert(0,'PRODUCT_ID',data)"
      ],
      "execution_count": null,
      "outputs": []
    },
    {
      "cell_type": "code",
      "metadata": {
        "colab": {
          "base_uri": "https://localhost:8080/"
        },
        "id": "D13aEvF25kJq",
        "outputId": "19e417ca-1c8e-4ff6-d5ac-0a8797bb0756"
      },
      "source": [
        "check.shape"
      ],
      "execution_count": null,
      "outputs": [
        {
          "output_type": "execute_result",
          "data": {
            "text/plain": [
              "(3400, 2)"
            ]
          },
          "metadata": {
            "tags": []
          },
          "execution_count": 66
        }
      ]
    },
    {
      "cell_type": "code",
      "metadata": {
        "colab": {
          "base_uri": "https://localhost:8080/"
        },
        "id": "8unJ8d-95mXJ",
        "outputId": "15dd6c96-c57c-434c-8f00-54491f07df2b"
      },
      "source": [
        "type(check)"
      ],
      "execution_count": null,
      "outputs": [
        {
          "output_type": "execute_result",
          "data": {
            "text/plain": [
              "pandas.core.frame.DataFrame"
            ]
          },
          "metadata": {
            "tags": []
          },
          "execution_count": 71
        }
      ]
    },
    {
      "cell_type": "code",
      "metadata": {
        "id": "9ZNPZRZc5_gF"
      },
      "source": [
        "check.to_csv('submission.csv')"
      ],
      "execution_count": null,
      "outputs": []
    },
    {
      "cell_type": "code",
      "metadata": {
        "id": "7kyp2Nj1-IGC"
      },
      "source": [
        "#The answer needed -> Product_ID | Browse_Node_Id\n",
        "\n",
        "# Product_Id -> save_product\n",
        "# Browse_NOde_id -> result\n",
        "# output -> save_product | result\n"
      ],
      "execution_count": null,
      "outputs": []
    }
  ]
}